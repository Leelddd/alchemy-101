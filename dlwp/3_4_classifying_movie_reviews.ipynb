{
  "nbformat": 4,
  "nbformat_minor": 0,
  "metadata": {
    "colab": {
      "name": "3.4-classifying-movie-reviews.ipynb",
      "version": "0.3.2",
      "provenance": [],
      "toc_visible": true,
      "include_colab_link": true
    },
    "kernelspec": {
      "name": "python3",
      "display_name": "Python 3"
    }
  },
  "cells": [
    {
      "cell_type": "markdown",
      "metadata": {
        "id": "view-in-github",
        "colab_type": "text"
      },
      "source": [
        "<a href=\"https://colab.research.google.com/github/Leelddd/deep-tragedy/blob/master/dlwp/3_4_classifying_movie_reviews.ipynb\" target=\"_parent\"><img src=\"https://colab.research.google.com/assets/colab-badge.svg\" alt=\"Open In Colab\"/></a>"
      ]
    },
    {
      "metadata": {
        "id": "MGUYbmDL2LEw",
        "colab_type": "text"
      },
      "cell_type": "markdown",
      "source": [
        "# 3.4 Classifying movie reviews: a binary classification example"
      ]
    },
    {
      "metadata": {
        "id": "CJzuc9MfkuJ0",
        "colab_type": "text"
      },
      "cell_type": "markdown",
      "source": [
        "## 3.4.1 Loading the IMDB dataset"
      ]
    },
    {
      "metadata": {
        "id": "xE39iEev3Ml3",
        "colab_type": "code",
        "colab": {
          "base_uri": "https://localhost:8080/",
          "height": 34
        },
        "outputId": "2c5aeb1d-f52e-443a-ace6-d3ae95011502"
      },
      "cell_type": "code",
      "source": [
        "from keras.datasets import imdb"
      ],
      "execution_count": 1,
      "outputs": [
        {
          "output_type": "stream",
          "text": [
            "Using TensorFlow backend.\n"
          ],
          "name": "stderr"
        }
      ]
    },
    {
      "metadata": {
        "id": "87VTQJnljhMV",
        "colab_type": "code",
        "colab": {
          "base_uri": "https://localhost:8080/",
          "height": 54
        },
        "outputId": "f71783fc-bbab-471e-d777-66fad670e5ae"
      },
      "cell_type": "code",
      "source": [
        "!pip install numpy==1.16.2"
      ],
      "execution_count": 2,
      "outputs": [
        {
          "output_type": "stream",
          "text": [
            "Requirement already satisfied: numpy==1.16.2 in /usr/local/lib/python3.6/dist-packages (1.16.2)\n"
          ],
          "name": "stdout"
        }
      ]
    },
    {
      "metadata": {
        "id": "jhun_fRd3kUc",
        "colab_type": "code",
        "colab": {}
      },
      "cell_type": "code",
      "source": [
        "# Downgrate numpy to 1.16.2 to fix a problem\n",
        "# !pip install numpy==1.16.2\n",
        "(train_data, train_labels), (test_data, test_labels) = imdb.load_data(num_words=10000)"
      ],
      "execution_count": 0,
      "outputs": []
    },
    {
      "metadata": {
        "id": "pHkXfp4g3yuy",
        "colab_type": "code",
        "colab": {
          "base_uri": "https://localhost:8080/",
          "height": 34
        },
        "outputId": "39e43eb3-e285-48a2-dbc3-185467bcb015"
      },
      "cell_type": "code",
      "source": [
        "train_data[0][:10], train_labels[0]"
      ],
      "execution_count": 5,
      "outputs": [
        {
          "output_type": "execute_result",
          "data": {
            "text/plain": [
              "([1, 14, 22, 16, 43, 530, 973, 1622, 1385, 65], 1)"
            ]
          },
          "metadata": {
            "tags": []
          },
          "execution_count": 5
        }
      ]
    },
    {
      "metadata": {
        "id": "y3hsmJ704tJz",
        "colab_type": "code",
        "colab": {}
      },
      "cell_type": "code",
      "source": [
        "word_index = imdb.get_word_index()"
      ],
      "execution_count": 0,
      "outputs": []
    },
    {
      "metadata": {
        "id": "45LGDdqa6EWT",
        "colab_type": "code",
        "colab": {
          "base_uri": "https://localhost:8080/",
          "height": 187
        },
        "outputId": "d1c48c3f-6770-4853-8c4a-578f735eb3f8"
      },
      "cell_type": "code",
      "source": [
        "[str(key)+':'+str(value) for (_, (key,value)) in zip(range(10), word_index.items())]"
      ],
      "execution_count": 8,
      "outputs": [
        {
          "output_type": "execute_result",
          "data": {
            "text/plain": [
              "['fawn:34701',\n",
              " 'tsukino:52006',\n",
              " 'nunnery:52007',\n",
              " 'sonja:16816',\n",
              " 'vani:63951',\n",
              " 'woods:1408',\n",
              " 'spiders:16115',\n",
              " 'hanging:2345',\n",
              " 'woody:2289',\n",
              " 'trawling:52008']"
            ]
          },
          "metadata": {
            "tags": []
          },
          "execution_count": 8
        }
      ]
    },
    {
      "metadata": {
        "id": "raQ8D3tg6IWL",
        "colab_type": "code",
        "colab": {}
      },
      "cell_type": "code",
      "source": [
        "reverse_word_index = {value:key for key,value in word_index.items()}\n",
        "decoded_review = ' '.join(reverse_word_index.get(i-3, '?') for i in train_data[0])"
      ],
      "execution_count": 0,
      "outputs": []
    },
    {
      "metadata": {
        "id": "Zn-nBpFNjYma",
        "colab_type": "code",
        "colab": {
          "base_uri": "https://localhost:8080/",
          "height": 54
        },
        "outputId": "40da2df4-3b7a-44ef-eb9a-a9f5f903adff"
      },
      "cell_type": "code",
      "source": [
        "decoded_review"
      ],
      "execution_count": 12,
      "outputs": [
        {
          "output_type": "execute_result",
          "data": {
            "text/plain": [
              "\"? this film was just brilliant casting location scenery story direction everyone's really suited the part they played and you could just imagine being there robert ? is an amazing actor and now the same being director ? father came from the same scottish island as myself so i loved the fact there was a real connection with this film the witty remarks throughout the film were great it was just brilliant so much that i bought the film as soon as it was released for ? and would recommend it to everyone to watch and the fly fishing was amazing really cried at the end it was so sad and you know what they say if you cry at a film it must have been good and this definitely was also ? to the two little boy's that played the ? of norman and paul they were just brilliant children are often left out of the ? list i think because the stars that play them all grown up are such a big profile for the whole film but these children are amazing and should be praised for what they have done don't you think the whole story was so lovely because it was true and was someone's life after all that was shared with us all\""
            ]
          },
          "metadata": {
            "tags": []
          },
          "execution_count": 12
        }
      ]
    },
    {
      "metadata": {
        "id": "-2RdnZP5j5Jl",
        "colab_type": "text"
      },
      "cell_type": "markdown",
      "source": [
        "## 3.4.2 Encoding the integer sequences into a binary matrix"
      ]
    },
    {
      "metadata": {
        "id": "eyJueJMJk7L9",
        "colab_type": "code",
        "colab": {}
      },
      "cell_type": "code",
      "source": [
        "import numpy as np"
      ],
      "execution_count": 0,
      "outputs": []
    },
    {
      "metadata": {
        "id": "7fGEeWO9lHr2",
        "colab_type": "code",
        "colab": {}
      },
      "cell_type": "code",
      "source": [
        "def vectorize_sequences(sequences, dimension=10000):\n",
        "    results = np.zeros((len(sequences), dimension))\n",
        "    for i, sequence in enumerate(sequences):\n",
        "        results[i, sequence] = 1\n",
        "    return results\n",
        "x_train = vectorize_sequences(train_data)\n",
        "x_test = vectorize_sequences(test_data)"
      ],
      "execution_count": 0,
      "outputs": []
    },
    {
      "metadata": {
        "id": "GzWd-lrWmHZ-",
        "colab_type": "code",
        "colab": {}
      },
      "cell_type": "code",
      "source": [
        "y_train = np.asarray(train_labels).astype('float32')\n",
        "y_test = np.asarray(test_labels).astype('float32')"
      ],
      "execution_count": 0,
      "outputs": []
    },
    {
      "metadata": {
        "id": "EhxacBAbSbGw",
        "colab_type": "code",
        "colab": {
          "base_uri": "https://localhost:8080/",
          "height": 34
        },
        "outputId": "b21fc26f-3424-4dd9-e362-8f6051a7efdf"
      },
      "cell_type": "code",
      "source": [
        "x_train[0]"
      ],
      "execution_count": 26,
      "outputs": [
        {
          "output_type": "execute_result",
          "data": {
            "text/plain": [
              "array([0., 1., 1., ..., 0., 0., 0.])"
            ]
          },
          "metadata": {
            "tags": []
          },
          "execution_count": 26
        }
      ]
    },
    {
      "metadata": {
        "id": "SBNOGvgdnPtg",
        "colab_type": "text"
      },
      "cell_type": "markdown",
      "source": [
        "## 3.4.3 The model definition"
      ]
    },
    {
      "metadata": {
        "id": "qgkESjEBAuYs",
        "colab_type": "text"
      },
      "cell_type": "markdown",
      "source": [
        "the model definition"
      ]
    },
    {
      "metadata": {
        "id": "FNNrOu4f_bMq",
        "colab_type": "code",
        "colab": {}
      },
      "cell_type": "code",
      "source": [
        "from keras import models\n",
        "from keras import layers\n",
        "\n",
        "model = models.Sequential()\n",
        "model.add(layers.Dense(16, activation='relu', input_shape=(10000,)))\n",
        "model.add(layers.Dense(16, activation='relu'))\n",
        "model.add(layers.Dense(1, activation='sigmoid'))"
      ],
      "execution_count": 0,
      "outputs": []
    },
    {
      "metadata": {
        "id": "sWSzeFkkAzLY",
        "colab_type": "text"
      },
      "cell_type": "markdown",
      "source": [
        "compiling the model"
      ]
    },
    {
      "metadata": {
        "id": "4HXpcEFS_7_-",
        "colab_type": "code",
        "colab": {}
      },
      "cell_type": "code",
      "source": [
        "model.compile(optimizer='rmsprop', \n",
        "              loss='binary_crossentropy', \n",
        "              metrics=['accuracy'])"
      ],
      "execution_count": 0,
      "outputs": []
    },
    {
      "metadata": {
        "id": "-6UVY66NBgec",
        "colab_type": "text"
      },
      "cell_type": "markdown",
      "source": [
        "configuraing the optimizer"
      ]
    },
    {
      "metadata": {
        "id": "tOJuAW6UBMuM",
        "colab_type": "code",
        "colab": {}
      },
      "cell_type": "code",
      "source": [
        "from keras import optimizers"
      ],
      "execution_count": 0,
      "outputs": []
    },
    {
      "metadata": {
        "id": "HEztmAu3Bkao",
        "colab_type": "code",
        "colab": {}
      },
      "cell_type": "code",
      "source": [
        "model.compile(optimizer=optimizers.RMSprop(lr=0.001),\n",
        "             loss='binary_crossentropy',\n",
        "             metrics=['accuracy'])"
      ],
      "execution_count": 0,
      "outputs": []
    },
    {
      "metadata": {
        "id": "ml6Gnh2gB5Wd",
        "colab_type": "text"
      },
      "cell_type": "markdown",
      "source": [
        "using custom losses and metrics"
      ]
    },
    {
      "metadata": {
        "id": "ZO7OL9otByZQ",
        "colab_type": "code",
        "colab": {}
      },
      "cell_type": "code",
      "source": [
        "from keras import losses\n",
        "from keras import metrics\n",
        "\n",
        "model.compile(optimizer=optimizers.RMSprop(lr=0.001),\n",
        "             loss=losses.binary_crossentropy,\n",
        "             metrics=[metrics.binary_accuracy])"
      ],
      "execution_count": 0,
      "outputs": []
    },
    {
      "metadata": {
        "id": "P4CPqwubCLw0",
        "colab_type": "text"
      },
      "cell_type": "markdown",
      "source": [
        "## 3.4.4 Validating your approach"
      ]
    },
    {
      "metadata": {
        "id": "PttdTfu-CW65",
        "colab_type": "code",
        "colab": {}
      },
      "cell_type": "code",
      "source": [
        "x_val = x_train[:10000]\n",
        "partial_x_train = x_train[10000:]\n",
        "y_val = y_train[:10000]\n",
        "partial_y_train = y_train[10000:]"
      ],
      "execution_count": 0,
      "outputs": []
    },
    {
      "metadata": {
        "id": "b50ovdcqCtIo",
        "colab_type": "code",
        "colab": {
          "base_uri": "https://localhost:8080/",
          "height": 734
        },
        "outputId": "bb82f843-34f3-4f5c-b7de-9bc158cd8621"
      },
      "cell_type": "code",
      "source": [
        "model.compile(optimizer='rmsprop',\n",
        "             loss='binary_crossentropy',\n",
        "             metrics=['acc'])\n",
        "history = model.fit(partial_x_train,\n",
        "                    partial_y_train,\n",
        "                    epochs=20,\n",
        "                    batch_size=512,\n",
        "                    validation_data=(x_val, y_val))"
      ],
      "execution_count": 30,
      "outputs": [
        {
          "output_type": "stream",
          "text": [
            "Train on 15000 samples, validate on 10000 samples\n",
            "Epoch 1/20\n",
            "15000/15000 [==============================] - 2s 138us/step - loss: 0.5341 - acc: 0.7893 - val_loss: 0.4081 - val_acc: 0.8686\n",
            "Epoch 2/20\n",
            "15000/15000 [==============================] - 2s 124us/step - loss: 0.3270 - acc: 0.8985 - val_loss: 0.3159 - val_acc: 0.8843\n",
            "Epoch 3/20\n",
            "15000/15000 [==============================] - 2s 126us/step - loss: 0.2363 - acc: 0.9241 - val_loss: 0.2831 - val_acc: 0.8897\n",
            "Epoch 4/20\n",
            "15000/15000 [==============================] - 2s 125us/step - loss: 0.1872 - acc: 0.9386 - val_loss: 0.2866 - val_acc: 0.8842\n",
            "Epoch 5/20\n",
            "15000/15000 [==============================] - 2s 125us/step - loss: 0.1507 - acc: 0.9519 - val_loss: 0.2767 - val_acc: 0.8886\n",
            "Epoch 6/20\n",
            "15000/15000 [==============================] - 2s 126us/step - loss: 0.1262 - acc: 0.9616 - val_loss: 0.3133 - val_acc: 0.8795\n",
            "Epoch 7/20\n",
            "15000/15000 [==============================] - 2s 126us/step - loss: 0.1051 - acc: 0.9684 - val_loss: 0.3115 - val_acc: 0.8842\n",
            "Epoch 8/20\n",
            "15000/15000 [==============================] - 2s 125us/step - loss: 0.0884 - acc: 0.9735 - val_loss: 0.3210 - val_acc: 0.8820\n",
            "Epoch 9/20\n",
            "15000/15000 [==============================] - 2s 125us/step - loss: 0.0742 - acc: 0.9793 - val_loss: 0.3520 - val_acc: 0.8827\n",
            "Epoch 10/20\n",
            "15000/15000 [==============================] - 2s 124us/step - loss: 0.0603 - acc: 0.9849 - val_loss: 0.3962 - val_acc: 0.8752\n",
            "Epoch 11/20\n",
            "15000/15000 [==============================] - 2s 125us/step - loss: 0.0516 - acc: 0.9857 - val_loss: 0.3893 - val_acc: 0.8780\n",
            "Epoch 12/20\n",
            "15000/15000 [==============================] - 2s 126us/step - loss: 0.0405 - acc: 0.9910 - val_loss: 0.4184 - val_acc: 0.8739\n",
            "Epoch 13/20\n",
            "15000/15000 [==============================] - 2s 125us/step - loss: 0.0345 - acc: 0.9931 - val_loss: 0.4467 - val_acc: 0.8721\n",
            "Epoch 14/20\n",
            "15000/15000 [==============================] - 2s 127us/step - loss: 0.0287 - acc: 0.9939 - val_loss: 0.4717 - val_acc: 0.8734\n",
            "Epoch 15/20\n",
            "15000/15000 [==============================] - 2s 125us/step - loss: 0.0246 - acc: 0.9944 - val_loss: 0.5034 - val_acc: 0.8718\n",
            "Epoch 16/20\n",
            "15000/15000 [==============================] - 2s 125us/step - loss: 0.0158 - acc: 0.9981 - val_loss: 0.6068 - val_acc: 0.8527\n",
            "Epoch 17/20\n",
            "15000/15000 [==============================] - 2s 128us/step - loss: 0.0155 - acc: 0.9979 - val_loss: 0.5625 - val_acc: 0.8701\n",
            "Epoch 18/20\n",
            "15000/15000 [==============================] - 2s 127us/step - loss: 0.0124 - acc: 0.9986 - val_loss: 0.5948 - val_acc: 0.8679\n",
            "Epoch 19/20\n",
            "15000/15000 [==============================] - 2s 125us/step - loss: 0.0072 - acc: 0.9998 - val_loss: 0.6300 - val_acc: 0.8657\n",
            "Epoch 20/20\n",
            "15000/15000 [==============================] - 2s 125us/step - loss: 0.0086 - acc: 0.9987 - val_loss: 0.6633 - val_acc: 0.8660\n"
          ],
          "name": "stdout"
        }
      ]
    },
    {
      "metadata": {
        "id": "6rNN8tWIDEAj",
        "colab_type": "code",
        "colab": {}
      },
      "cell_type": "code",
      "source": [
        "import matplotlib.pyplot as plt\n",
        "\n",
        "history_dict = history.history\n",
        "loss_values = history_dict['loss']\n",
        "val_loss_values = history_dict['val_loss']\n",
        "acc = history_dict['acc']\n",
        "epochs = range(1, len(acc)+1)\n"
      ],
      "execution_count": 0,
      "outputs": []
    },
    {
      "metadata": {
        "id": "3Do33M1VGuCk",
        "colab_type": "code",
        "colab": {
          "base_uri": "https://localhost:8080/",
          "height": 295
        },
        "outputId": "5ff1046c-934b-467f-de0b-7bff2a9ffe75"
      },
      "cell_type": "code",
      "source": [
        "plt.plot(epochs, loss_values, 'r', label='Training loss')\n",
        "plt.plot(epochs, val_loss_values, 'b', label= 'Validation loss')\n",
        "plt.title('Training and validation loss')\n",
        "plt.xlabel('Epochs')\n",
        "plt.ylabel('Loss')\n",
        "plt.legend()\n",
        "\n",
        "plt.show()"
      ],
      "execution_count": 32,
      "outputs": [
        {
          "output_type": "display_data",
          "data": {
            "image/png": "[encoded data removed]",
            "text/plain": [
              "<Figure size 432x288 with 1 Axes>"
            ]
          },
          "metadata": {
            "tags": []
          }
        }
      ]
    },
    {
      "metadata": {
        "id": "c_opmDzsEVh1",
        "colab_type": "code",
        "colab": {
          "base_uri": "https://localhost:8080/",
          "height": 295
        },
        "outputId": "8fba173e-8be8-4566-9066-ab293d747e21"
      },
      "cell_type": "code",
      "source": [
        "plt.clf()\n",
        "acc_values = history_dict['acc']\n",
        "val_acc_values = history_dict['val_acc']\n",
        "\n",
        "plt.plot(epochs, acc, 'red', label='Training acc')\n",
        "plt.plot(epochs, val_acc_values, 'b', label='Validation acc')\n",
        "plt.title('Training and validation accuracy')\n",
        "plt.xlabel('Epochs')\n",
        "plt.ylabel('Loss')\n",
        "plt.legend()\n",
        "\n",
        "plt.show()"
      ],
      "execution_count": 33,
      "outputs": [
        {
          "output_type": "display_data",
          "data": {
            "image/png": "[encoded data removed]",
            "text/plain": [
              "<Figure size 432x288 with 1 Axes>"
            ]
          },
          "metadata": {
            "tags": []
          }
        }
      ]
    },
    {
      "metadata": {
        "id": "xQi5nNIOGghy",
        "colab_type": "code",
        "colab": {
          "base_uri": "https://localhost:8080/",
          "height": 207
        },
        "outputId": "e04fcff1-b914-4960-df6b-f16eb4595cf6"
      },
      "cell_type": "code",
      "source": [
        "model = models.Sequential()\n",
        "model.add(layers.Dense(16, activation='relu', input_shape=(10000,)))\n",
        "model.add(layers.Dense(16, activation='relu'))\n",
        "model.add(layers.Dense(1, activation='sigmoid'))\n",
        "\n",
        "model.compile(optimizer='rmsprop',\n",
        "              loss='binary_crossentropy',\n",
        "              metrics=['accuracy'])\n",
        "model.fit(x_train, y_train, epochs=4, batch_size=512)\n",
        "results=model.evaluate(x_test,y_test)\n",
        "results"
      ],
      "execution_count": 34,
      "outputs": [
        {
          "output_type": "stream",
          "text": [
            "Epoch 1/4\n",
            "25000/25000 [==============================] - 3s 132us/step - loss: 0.4632 - acc: 0.8176\n",
            "Epoch 2/4\n",
            "25000/25000 [==============================] - 2s 93us/step - loss: 0.2641 - acc: 0.9061\n",
            "Epoch 3/4\n",
            "25000/25000 [==============================] - 2s 93us/step - loss: 0.2029 - acc: 0.9276\n",
            "Epoch 4/4\n",
            "25000/25000 [==============================] - 2s 96us/step - loss: 0.1694 - acc: 0.9398\n",
            "25000/25000 [==============================] - 2s 73us/step\n"
          ],
          "name": "stdout"
        },
        {
          "output_type": "execute_result",
          "data": {
            "text/plain": [
              "[0.29190899978637697, 0.885]"
            ]
          },
          "metadata": {
            "tags": []
          },
          "execution_count": 34
        }
      ]
    },
    {
      "metadata": {
        "id": "IUwwrrCZHdxm",
        "colab_type": "code",
        "colab": {
          "base_uri": "https://localhost:8080/",
          "height": 136
        },
        "outputId": "2a74766f-cc6a-4832-c3d5-8682e1f9a997"
      },
      "cell_type": "code",
      "source": [
        "model.predict(x_test)"
      ],
      "execution_count": 35,
      "outputs": [
        {
          "output_type": "execute_result",
          "data": {
            "text/plain": [
              "array([[0.21787608],\n",
              "       [0.99979347],\n",
              "       [0.9406823 ],\n",
              "       ...,\n",
              "       [0.1316728 ],\n",
              "       [0.05932778],\n",
              "       [0.6830929 ]], dtype=float32)"
            ]
          },
          "metadata": {
            "tags": []
          },
          "execution_count": 35
        }
      ]
    },
    {
      "metadata": {
        "id": "4dKkOcEmHpZz",
        "colab_type": "code",
        "colab": {}
      },
      "cell_type": "code",
      "source": [
        ""
      ],
      "execution_count": 0,
      "outputs": []
    }
  ]
}