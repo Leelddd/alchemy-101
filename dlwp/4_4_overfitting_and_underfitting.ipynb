{
  "nbformat": 4,
  "nbformat_minor": 0,
  "metadata": {
    "colab": {
      "name": "4.4-overfitting-and-underfitting.ipynb",
      "version": "0.3.2",
      "provenance": [],
      "include_colab_link": true
    },
    "kernelspec": {
      "name": "python3",
      "display_name": "Python 3"
    }
  },
  "cells": [
    {
      "cell_type": "markdown",
      "metadata": {
        "id": "view-in-github",
        "colab_type": "text"
      },
      "source": [
        "<a href=\"https://colab.research.google.com/github/Leelddd/deep-tragedy/blob/master/dlwp/4_4_overfitting_and_underfitting.ipynb\" target=\"_parent\"><img src=\"https://colab.research.google.com/assets/colab-badge.svg\" alt=\"Open In Colab\"/></a>"
      ]
    },
    {
      "metadata": {
        "id": "2PnkNhHoiCrO",
        "colab_type": "text"
      },
      "cell_type": "markdown",
      "source": [
        "# 4.4 Overfitting and underfitting"
      ]
    },
    {
      "metadata": {
        "id": "Nke-gAUHiLP9",
        "colab_type": "code",
        "outputId": "22fbe662-914f-49a4-ad7f-228e8c2469d6",
        "colab": {
          "base_uri": "https://localhost:8080/",
          "height": 51
        }
      },
      "cell_type": "code",
      "source": [
        "import keras\n",
        "keras.__version__"
      ],
      "execution_count": 1,
      "outputs": [
        {
          "output_type": "stream",
          "text": [
            "Using TensorFlow backend.\n"
          ],
          "name": "stderr"
        },
        {
          "output_type": "execute_result",
          "data": {
            "text/plain": [
              "'2.2.4'"
            ]
          },
          "metadata": {
            "tags": []
          },
          "execution_count": 1
        }
      ]
    },
    {
      "metadata": {
        "id": "xsQbaKfu5CGX",
        "colab_type": "code",
        "colab": {
          "base_uri": "https://localhost:8080/",
          "height": 34
        },
        "outputId": "ae586ee0-9d52-4a3f-cd7f-a6343034ccd8"
      },
      "cell_type": "code",
      "source": [
        "!pip install numpy==1.16.2"
      ],
      "execution_count": 2,
      "outputs": [
        {
          "output_type": "stream",
          "text": [
            "Requirement already satisfied: numpy==1.16.2 in /usr/local/lib/python3.6/dist-packages (1.16.2)\n"
          ],
          "name": "stdout"
        }
      ]
    },
    {
      "metadata": {
        "id": "ywN5FwVw4mY1",
        "colab_type": "code",
        "colab": {}
      },
      "cell_type": "code",
      "source": [
        "from keras.datasets import imdb\n",
        "import numpy as np\n",
        "\n",
        "(train_data, train_labels), (test_data, test_labels) = imdb.load_data(num_words=10000)\n",
        "\n",
        "def vec_seqs(seqs, dim=10000):\n",
        "    results = np.zeros((len(seqs), dim))\n",
        "    for i, seq in enumerate(seqs):\n",
        "        results[i, seq] = 1.\n",
        "    return results\n",
        "\n",
        "x_train = vec_seqs(train_data)\n",
        "x_test  = vec_seqs(test_data)\n",
        "\n",
        "y_train = np.asarray(train_labels).astype('float32')\n",
        "y_test  = np.asarray(test_labels).astype('float32')"
      ],
      "execution_count": 0,
      "outputs": []
    },
    {
      "metadata": {
        "id": "9apZjPNJ9Tyo",
        "colab_type": "code",
        "colab": {
          "base_uri": "https://localhost:8080/",
          "height": 34
        },
        "outputId": "43103b26-c4bc-4d0b-bd18-91f7cad9c313"
      },
      "cell_type": "code",
      "source": [
        "y_test[0]"
      ],
      "execution_count": 40,
      "outputs": [
        {
          "output_type": "execute_result",
          "data": {
            "text/plain": [
              "0.0"
            ]
          },
          "metadata": {
            "tags": []
          },
          "execution_count": 40
        }
      ]
    },
    {
      "metadata": {
        "id": "i8dwr6qtiOt6",
        "colab_type": "text"
      },
      "cell_type": "markdown",
      "source": [
        "## 4.4.1 Reducing the network's size"
      ]
    },
    {
      "metadata": {
        "id": "lbSOAXoC6z5l",
        "colab_type": "text"
      },
      "cell_type": "markdown",
      "source": [
        "### Original model"
      ]
    },
    {
      "metadata": {
        "id": "cWhHrC6y48GZ",
        "colab_type": "code",
        "colab": {}
      },
      "cell_type": "code",
      "source": [
        "from keras import models\n",
        "from keras import layers\n",
        "\n",
        "original_model = models.Sequential()\n",
        "original_model.add(layers.Dense(16, activation='relu', input_shape=(10000,)))\n",
        "original_model.add(layers.Dense(16, activation='relu'))\n",
        "original_model.add(layers.Dense(1, activation='sigmoid'))\n",
        "\n",
        "original_model.compile(optimizer='rmsprop', \n",
        "                       loss='binary_crossentropy', \n",
        "                       metrics=['acc'])"
      ],
      "execution_count": 0,
      "outputs": []
    },
    {
      "metadata": {
        "id": "CavUAPnn486N",
        "colab_type": "text"
      },
      "cell_type": "markdown",
      "source": [
        "### Version of the model with lower capacity"
      ]
    },
    {
      "metadata": {
        "id": "a_934Vl-5x30",
        "colab_type": "code",
        "colab": {}
      },
      "cell_type": "code",
      "source": [
        "smaller_model = models.Sequential()\n",
        "smaller_model.add(layers.Dense(4, activation='relu', input_shape=(10000,)))\n",
        "smaller_model.add(layers.Dense(4, activation='relu'))\n",
        "smaller_model.add(layers.Dense(1, activation='sigmoid'))\n",
        "\n",
        "smaller_model.compile(optimizer='rmsprop', loss='binary_crossentropy', metrics=['acc'])"
      ],
      "execution_count": 0,
      "outputs": []
    },
    {
      "metadata": {
        "id": "D8vKXY_g501M",
        "colab_type": "code",
        "colab": {
          "base_uri": "https://localhost:8080/",
          "height": 734
        },
        "outputId": "29577372-31c0-43a4-ad66-06beecec897b"
      },
      "cell_type": "code",
      "source": [
        "original_history = original_model.fit(x_train, y_train, epochs=20, \n",
        "                                      batch_size=512,\n",
        "                                     validation_data=(x_test, y_test))"
      ],
      "execution_count": 47,
      "outputs": [
        {
          "output_type": "stream",
          "text": [
            "Train on 25000 samples, validate on 25000 samples\n",
            "Epoch 1/20\n",
            "25000/25000 [==============================] - 5s 204us/step - loss: 0.4959 - acc: 0.8096 - val_loss: 0.3644 - val_acc: 0.8773\n",
            "Epoch 2/20\n",
            "25000/25000 [==============================] - 5s 188us/step - loss: 0.2815 - acc: 0.9040 - val_loss: 0.2902 - val_acc: 0.8900\n",
            "Epoch 3/20\n",
            "25000/25000 [==============================] - 5s 187us/step - loss: 0.2112 - acc: 0.9255 - val_loss: 0.2790 - val_acc: 0.8906\n",
            "Epoch 4/20\n",
            "25000/25000 [==============================] - 5s 188us/step - loss: 0.1749 - acc: 0.9391 - val_loss: 0.2894 - val_acc: 0.8856\n",
            "Epoch 5/20\n",
            "25000/25000 [==============================] - 5s 187us/step - loss: 0.1511 - acc: 0.9467 - val_loss: 0.3082 - val_acc: 0.8804\n",
            "Epoch 6/20\n",
            "25000/25000 [==============================] - 5s 187us/step - loss: 0.1321 - acc: 0.9547 - val_loss: 0.3208 - val_acc: 0.8780\n",
            "Epoch 7/20\n",
            "25000/25000 [==============================] - 5s 188us/step - loss: 0.1151 - acc: 0.9612 - val_loss: 0.3446 - val_acc: 0.8741\n",
            "Epoch 8/20\n",
            "25000/25000 [==============================] - 5s 187us/step - loss: 0.1019 - acc: 0.9654 - val_loss: 0.3695 - val_acc: 0.8705\n",
            "Epoch 9/20\n",
            "25000/25000 [==============================] - 5s 188us/step - loss: 0.0882 - acc: 0.9716 - val_loss: 0.3928 - val_acc: 0.8691\n",
            "Epoch 10/20\n",
            "25000/25000 [==============================] - 5s 188us/step - loss: 0.0772 - acc: 0.9747 - val_loss: 0.4243 - val_acc: 0.8663\n",
            "Epoch 11/20\n",
            "25000/25000 [==============================] - 5s 188us/step - loss: 0.0681 - acc: 0.9785 - val_loss: 0.4558 - val_acc: 0.8615\n",
            "Epoch 12/20\n",
            "25000/25000 [==============================] - 5s 188us/step - loss: 0.0596 - acc: 0.9819 - val_loss: 0.4757 - val_acc: 0.8618\n",
            "Epoch 13/20\n",
            "25000/25000 [==============================] - 5s 187us/step - loss: 0.0490 - acc: 0.9863 - val_loss: 0.5104 - val_acc: 0.8611\n",
            "Epoch 14/20\n",
            "25000/25000 [==============================] - 5s 187us/step - loss: 0.0442 - acc: 0.9869 - val_loss: 0.5373 - val_acc: 0.8580\n",
            "Epoch 15/20\n",
            "25000/25000 [==============================] - 5s 187us/step - loss: 0.0349 - acc: 0.9903 - val_loss: 0.6754 - val_acc: 0.8456\n",
            "Epoch 16/20\n",
            "25000/25000 [==============================] - 5s 189us/step - loss: 0.0305 - acc: 0.9918 - val_loss: 0.6057 - val_acc: 0.8559\n",
            "Epoch 17/20\n",
            "25000/25000 [==============================] - 5s 188us/step - loss: 0.0245 - acc: 0.9936 - val_loss: 0.6450 - val_acc: 0.8525\n",
            "Epoch 18/20\n",
            "25000/25000 [==============================] - 5s 190us/step - loss: 0.0189 - acc: 0.9957 - val_loss: 0.6744 - val_acc: 0.8549\n",
            "Epoch 19/20\n",
            "25000/25000 [==============================] - 5s 190us/step - loss: 0.0158 - acc: 0.9962 - val_loss: 0.7230 - val_acc: 0.8537\n",
            "Epoch 20/20\n",
            "25000/25000 [==============================] - 5s 190us/step - loss: 0.0130 - acc: 0.9973 - val_loss: 0.7532 - val_acc: 0.8525\n"
          ],
          "name": "stdout"
        }
      ]
    },
    {
      "metadata": {
        "id": "QA3xV1bZ51RX",
        "colab_type": "code",
        "colab": {
          "base_uri": "https://localhost:8080/",
          "height": 734
        },
        "outputId": "3b720acd-d229-4372-bd3c-a8825d2a0844"
      },
      "cell_type": "code",
      "source": [
        "smaller_history = smaller_model.fit(x_train, y_train, epochs=20, batch_size=512,\n",
        "                                     validation_data=(x_test, y_test))"
      ],
      "execution_count": 48,
      "outputs": [
        {
          "output_type": "stream",
          "text": [
            "Train on 25000 samples, validate on 25000 samples\n",
            "Epoch 1/20\n",
            "25000/25000 [==============================] - 5s 182us/step - loss: 0.5706 - acc: 0.8044 - val_loss: 0.4830 - val_acc: 0.8532\n",
            "Epoch 2/20\n",
            "25000/25000 [==============================] - 4s 165us/step - loss: 0.3977 - acc: 0.8822 - val_loss: 0.3740 - val_acc: 0.8750\n",
            "Epoch 3/20\n",
            "25000/25000 [==============================] - 4s 164us/step - loss: 0.3039 - acc: 0.9034 - val_loss: 0.3204 - val_acc: 0.8838\n",
            "Epoch 4/20\n",
            "25000/25000 [==============================] - 4s 165us/step - loss: 0.2501 - acc: 0.9179 - val_loss: 0.2944 - val_acc: 0.8895\n",
            "Epoch 5/20\n",
            "25000/25000 [==============================] - 4s 164us/step - loss: 0.2156 - acc: 0.9272 - val_loss: 0.2871 - val_acc: 0.8863\n",
            "Epoch 6/20\n",
            "25000/25000 [==============================] - 4s 165us/step - loss: 0.1916 - acc: 0.9352 - val_loss: 0.2799 - val_acc: 0.8886\n",
            "Epoch 7/20\n",
            "25000/25000 [==============================] - 4s 163us/step - loss: 0.1726 - acc: 0.9413 - val_loss: 0.2924 - val_acc: 0.8816\n",
            "Epoch 8/20\n",
            "25000/25000 [==============================] - 4s 166us/step - loss: 0.1579 - acc: 0.9467 - val_loss: 0.2860 - val_acc: 0.8862\n",
            "Epoch 9/20\n",
            "25000/25000 [==============================] - 4s 163us/step - loss: 0.1448 - acc: 0.9519 - val_loss: 0.2926 - val_acc: 0.8839\n",
            "Epoch 10/20\n",
            "25000/25000 [==============================] - 4s 166us/step - loss: 0.1342 - acc: 0.9560 - val_loss: 0.3012 - val_acc: 0.8829\n",
            "Epoch 11/20\n",
            "25000/25000 [==============================] - 4s 162us/step - loss: 0.1246 - acc: 0.9601 - val_loss: 0.3108 - val_acc: 0.8809\n",
            "Epoch 12/20\n",
            "25000/25000 [==============================] - 4s 166us/step - loss: 0.1159 - acc: 0.9620 - val_loss: 0.3229 - val_acc: 0.8785\n",
            "Epoch 13/20\n",
            "25000/25000 [==============================] - 4s 164us/step - loss: 0.1083 - acc: 0.9652 - val_loss: 0.3347 - val_acc: 0.8769\n",
            "Epoch 14/20\n",
            "25000/25000 [==============================] - 4s 165us/step - loss: 0.1015 - acc: 0.9683 - val_loss: 0.3458 - val_acc: 0.8762\n",
            "Epoch 15/20\n",
            "25000/25000 [==============================] - 4s 164us/step - loss: 0.0952 - acc: 0.9698 - val_loss: 0.3652 - val_acc: 0.8727\n",
            "Epoch 16/20\n",
            "25000/25000 [==============================] - 4s 172us/step - loss: 0.0894 - acc: 0.9730 - val_loss: 0.3736 - val_acc: 0.8716\n",
            "Epoch 17/20\n",
            "25000/25000 [==============================] - 4s 171us/step - loss: 0.0834 - acc: 0.9751 - val_loss: 0.3886 - val_acc: 0.8699\n",
            "Epoch 18/20\n",
            "25000/25000 [==============================] - 4s 169us/step - loss: 0.0786 - acc: 0.9772 - val_loss: 0.4032 - val_acc: 0.8688\n",
            "Epoch 19/20\n",
            "25000/25000 [==============================] - 4s 163us/step - loss: 0.0738 - acc: 0.9782 - val_loss: 0.4195 - val_acc: 0.8663\n",
            "Epoch 20/20\n",
            "25000/25000 [==============================] - 4s 167us/step - loss: 0.0685 - acc: 0.9808 - val_loss: 0.4367 - val_acc: 0.8662\n"
          ],
          "name": "stdout"
        }
      ]
    },
    {
      "metadata": {
        "id": "jGOxtuah_ri-",
        "colab_type": "code",
        "colab": {
          "base_uri": "https://localhost:8080/",
          "height": 734
        },
        "outputId": "a35bc65e-81cd-484c-9776-e9da1c1a2d6d"
      },
      "cell_type": "code",
      "source": [
        "bigger_model = models.Sequential()\n",
        "bigger_model.add(layers.Dense(512, activation='relu', input_shape=(10000,)))\n",
        "bigger_model.add(layers.Dense(512, activation='relu'))\n",
        "bigger_model.add(layers.Dense(1, activation='sigmoid'))\n",
        "\n",
        "bigger_model.compile(optimizer='rmsprop',\n",
        "                     loss='binary_crossentropy',\n",
        "                     metrics=['acc'])\n",
        "\n",
        "bigger_history = bigger_model.fit(x_train, y_train, epochs=20, batch_size=512, validation_data=(x_test, y_test))"
      ],
      "execution_count": 51,
      "outputs": [
        {
          "output_type": "stream",
          "text": [
            "Train on 25000 samples, validate on 25000 samples\n",
            "Epoch 1/20\n",
            "25000/25000 [==============================] - 23s 908us/step - loss: 0.4652 - acc: 0.7890 - val_loss: 0.2908 - val_acc: 0.8832\n",
            "Epoch 2/20\n",
            "25000/25000 [==============================] - 22s 870us/step - loss: 0.2185 - acc: 0.9136 - val_loss: 0.2733 - val_acc: 0.8883\n",
            "Epoch 3/20\n",
            "25000/25000 [==============================] - 22s 866us/step - loss: 0.1354 - acc: 0.9498 - val_loss: 0.3216 - val_acc: 0.8790\n",
            "Epoch 4/20\n",
            "25000/25000 [==============================] - 22s 867us/step - loss: 0.0635 - acc: 0.9770 - val_loss: 0.3324 - val_acc: 0.8774\n",
            "Epoch 5/20\n",
            "25000/25000 [==============================] - 22s 865us/step - loss: 0.0451 - acc: 0.9894 - val_loss: 0.4703 - val_acc: 0.8816\n",
            "Epoch 6/20\n",
            "25000/25000 [==============================] - 22s 869us/step - loss: 0.0712 - acc: 0.9878 - val_loss: 0.4829 - val_acc: 0.8742\n",
            "Epoch 7/20\n",
            "25000/25000 [==============================] - 22s 864us/step - loss: 0.0019 - acc: 0.9998 - val_loss: 0.6367 - val_acc: 0.8809\n",
            "Epoch 8/20\n",
            "25000/25000 [==============================] - 22s 868us/step - loss: 2.6574e-04 - acc: 1.0000 - val_loss: 0.7751 - val_acc: 0.8790\n",
            "Epoch 9/20\n",
            "25000/25000 [==============================] - 22s 865us/step - loss: 0.0972 - acc: 0.9902 - val_loss: 0.9024 - val_acc: 0.8616\n",
            "Epoch 10/20\n",
            "25000/25000 [==============================] - 22s 868us/step - loss: 4.0015e-04 - acc: 0.9999 - val_loss: 0.8362 - val_acc: 0.8711\n",
            "Epoch 11/20\n",
            "25000/25000 [==============================] - 21s 860us/step - loss: 0.0759 - acc: 0.9898 - val_loss: 0.6954 - val_acc: 0.8774\n",
            "Epoch 12/20\n",
            "25000/25000 [==============================] - 22s 885us/step - loss: 8.4797e-05 - acc: 1.0000 - val_loss: 0.8029 - val_acc: 0.8732\n",
            "Epoch 13/20\n",
            "25000/25000 [==============================] - 22s 871us/step - loss: 2.0064e-05 - acc: 1.0000 - val_loss: 0.8559 - val_acc: 0.8755\n",
            "Epoch 14/20\n",
            "25000/25000 [==============================] - 22s 869us/step - loss: 0.0652 - acc: 0.9923 - val_loss: 1.3494 - val_acc: 0.8117\n",
            "Epoch 15/20\n",
            "25000/25000 [==============================] - 22s 866us/step - loss: 0.0011 - acc: 0.9998 - val_loss: 0.8425 - val_acc: 0.8749\n",
            "Epoch 16/20\n",
            "25000/25000 [==============================] - 22s 869us/step - loss: 0.0668 - acc: 0.9918 - val_loss: 1.1427 - val_acc: 0.8508\n",
            "Epoch 17/20\n",
            "25000/25000 [==============================] - 22s 867us/step - loss: 0.0036 - acc: 0.9992 - val_loss: 0.8687 - val_acc: 0.8648\n",
            "Epoch 18/20\n",
            "25000/25000 [==============================] - 22s 873us/step - loss: 0.0442 - acc: 0.9939 - val_loss: 1.0332 - val_acc: 0.8478\n",
            "Epoch 19/20\n",
            "25000/25000 [==============================] - 22s 866us/step - loss: 0.0398 - acc: 0.9942 - val_loss: 1.1379 - val_acc: 0.8418\n",
            "Epoch 20/20\n",
            "25000/25000 [==============================] - 22s 870us/step - loss: 0.0024 - acc: 0.9996 - val_loss: 0.9319 - val_acc: 0.8650\n"
          ],
          "name": "stdout"
        }
      ]
    },
    {
      "metadata": {
        "id": "bhOXmTjNAlWC",
        "colab_type": "text"
      },
      "cell_type": "markdown",
      "source": [
        "## 4.4.2 Add weight regularization"
      ]
    },
    {
      "metadata": {
        "id": "f6L2jixHBT8x",
        "colab_type": "code",
        "colab": {
          "base_uri": "https://localhost:8080/",
          "height": 734
        },
        "outputId": "a6cbf040-31d9-4ef3-a589-b7e4138d7547"
      },
      "cell_type": "code",
      "source": [
        "from keras import regularizers\n",
        "\n",
        "l2_model = models.Sequential()\n",
        "l2_model.add(layers.Dense(16, kernel_regularizer=regularizers.l2(0.001),\n",
        "                          activation='relu', input_shape=(10000,)))\n",
        "l2_model.add(layers.Dense(16, kernel_regularizer=regularizers.l2(0.001),\n",
        "                          activation='relu'))\n",
        "l2_model.add(layers.Dense(1, activation='sigmoid'))\n",
        "\n",
        "l2_model.compile(optimizer='rmsprop',\n",
        "                 loss='binary_crossentropy',\n",
        "                 metrics=['acc'])\n",
        "\n",
        "l2_history = l2_model.fit(x_train, y_train,\n",
        "                             epochs=20,\n",
        "                             batch_size=512,\n",
        "                             validation_data=(x_test, y_test))"
      ],
      "execution_count": 59,
      "outputs": [
        {
          "output_type": "stream",
          "text": [
            "Train on 25000 samples, validate on 25000 samples\n",
            "Epoch 1/20\n",
            "25000/25000 [==============================] - 6s 256us/step - loss: 0.4977 - acc: 0.8181 - val_loss: 0.3852 - val_acc: 0.8816\n",
            "Epoch 2/20\n",
            "25000/25000 [==============================] - 5s 215us/step - loss: 0.3205 - acc: 0.9019 - val_loss: 0.3365 - val_acc: 0.8885\n",
            "Epoch 3/20\n",
            "25000/25000 [==============================] - 5s 217us/step - loss: 0.2713 - acc: 0.9202 - val_loss: 0.3249 - val_acc: 0.8893\n",
            "Epoch 4/20\n",
            "25000/25000 [==============================] - 5s 214us/step - loss: 0.2492 - acc: 0.9279 - val_loss: 0.3373 - val_acc: 0.8824\n",
            "Epoch 5/20\n",
            "25000/25000 [==============================] - 5s 217us/step - loss: 0.2360 - acc: 0.9335 - val_loss: 0.3362 - val_acc: 0.8859\n",
            "Epoch 6/20\n",
            "25000/25000 [==============================] - 5s 216us/step - loss: 0.2255 - acc: 0.9375 - val_loss: 0.3416 - val_acc: 0.8844\n",
            "Epoch 7/20\n",
            "25000/25000 [==============================] - 5s 218us/step - loss: 0.2197 - acc: 0.9389 - val_loss: 0.3665 - val_acc: 0.8737\n",
            "Epoch 8/20\n",
            "25000/25000 [==============================] - 5s 216us/step - loss: 0.2116 - acc: 0.9431 - val_loss: 0.3583 - val_acc: 0.8785\n",
            "Epoch 9/20\n",
            "25000/25000 [==============================] - 5s 217us/step - loss: 0.2101 - acc: 0.9423 - val_loss: 0.3840 - val_acc: 0.8709\n",
            "Epoch 10/20\n",
            "25000/25000 [==============================] - 5s 215us/step - loss: 0.2052 - acc: 0.9448 - val_loss: 0.4187 - val_acc: 0.8597\n",
            "Epoch 11/20\n",
            "25000/25000 [==============================] - 5s 217us/step - loss: 0.2052 - acc: 0.9455 - val_loss: 0.3783 - val_acc: 0.8724\n",
            "Epoch 12/20\n",
            "25000/25000 [==============================] - 5s 216us/step - loss: 0.1977 - acc: 0.9475 - val_loss: 0.3829 - val_acc: 0.8739\n",
            "Epoch 13/20\n",
            "25000/25000 [==============================] - 5s 218us/step - loss: 0.1975 - acc: 0.9482 - val_loss: 0.3980 - val_acc: 0.8699\n",
            "Epoch 14/20\n",
            "25000/25000 [==============================] - 5s 214us/step - loss: 0.1986 - acc: 0.9469 - val_loss: 0.3939 - val_acc: 0.8724\n",
            "Epoch 15/20\n",
            "25000/25000 [==============================] - 5s 216us/step - loss: 0.1891 - acc: 0.9511 - val_loss: 0.4135 - val_acc: 0.8657\n",
            "Epoch 16/20\n",
            "25000/25000 [==============================] - 5s 214us/step - loss: 0.1890 - acc: 0.9507 - val_loss: 0.4011 - val_acc: 0.8700\n",
            "Epoch 17/20\n",
            "25000/25000 [==============================] - 5s 218us/step - loss: 0.1896 - acc: 0.9498 - val_loss: 0.4340 - val_acc: 0.8672\n",
            "Epoch 18/20\n",
            "25000/25000 [==============================] - 5s 216us/step - loss: 0.1862 - acc: 0.9532 - val_loss: 0.4117 - val_acc: 0.8711\n",
            "Epoch 19/20\n",
            "25000/25000 [==============================] - 5s 219us/step - loss: 0.1859 - acc: 0.9510 - val_loss: 0.4127 - val_acc: 0.8694\n",
            "Epoch 20/20\n",
            "25000/25000 [==============================] - 5s 215us/step - loss: 0.1803 - acc: 0.9537 - val_loss: 0.4222 - val_acc: 0.8680\n"
          ],
          "name": "stdout"
        }
      ]
    },
    {
      "metadata": {
        "id": "q5hS6kJHExML",
        "colab_type": "text"
      },
      "cell_type": "markdown",
      "source": [
        "## 4.4.3 Adding dropout"
      ]
    },
    {
      "metadata": {
        "id": "krDhbd80GMsK",
        "colab_type": "code",
        "colab": {
          "base_uri": "https://localhost:8080/",
          "height": 785
        },
        "outputId": "3fcd841c-75fd-4240-af7c-644df1b1a7eb"
      },
      "cell_type": "code",
      "source": [
        "dpt_model = models.Sequential()\n",
        "dpt_model.add(layers.Dense(16, activation='relu', input_shape=(10000,)))\n",
        "dpt_model.add(layers.Dropout(0.5))\n",
        "dpt_model.add(layers.Dense(16, activation='relu'))\n",
        "dpt_model.add(layers.Dropout(0.5))\n",
        "dpt_model.add(layers.Dense(1, activation='sigmoid'))\n",
        "\n",
        "dpt_model.compile(optimizer='rmsprop',\n",
        "                  loss='binary_crossentropy',\n",
        "                  metrics=['acc'])\n",
        "\n",
        "dpt_history = dpt_model.fit(x_train, y_train,\n",
        "                               epochs=20,\n",
        "                               batch_size=512,\n",
        "                               validation_data=(x_test, y_test))"
      ],
      "execution_count": 62,
      "outputs": [
        {
          "output_type": "stream",
          "text": [
            "WARNING:tensorflow:From /usr/local/lib/python3.6/dist-packages/keras/backend/tensorflow_backend.py:3445: calling dropout (from tensorflow.python.ops.nn_ops) with keep_prob is deprecated and will be removed in a future version.\n",
            "Instructions for updating:\n",
            "Please use `rate` instead of `keep_prob`. Rate should be set to `rate = 1 - keep_prob`.\n",
            "Train on 25000 samples, validate on 25000 samples\n",
            "Epoch 1/20\n",
            "25000/25000 [==============================] - 7s 265us/step - loss: 0.6305 - acc: 0.6334 - val_loss: 0.5313 - val_acc: 0.8520\n",
            "Epoch 2/20\n",
            "25000/25000 [==============================] - 5s 219us/step - loss: 0.5171 - acc: 0.7697 - val_loss: 0.4153 - val_acc: 0.8771\n",
            "Epoch 3/20\n",
            "25000/25000 [==============================] - 6s 222us/step - loss: 0.4279 - acc: 0.8389 - val_loss: 0.3402 - val_acc: 0.8860\n",
            "Epoch 4/20\n",
            "25000/25000 [==============================] - 5s 217us/step - loss: 0.3601 - acc: 0.8759 - val_loss: 0.3055 - val_acc: 0.8876\n",
            "Epoch 5/20\n",
            "25000/25000 [==============================] - 6s 220us/step - loss: 0.3103 - acc: 0.8959 - val_loss: 0.2861 - val_acc: 0.8862\n",
            "Epoch 6/20\n",
            "25000/25000 [==============================] - 6s 220us/step - loss: 0.2734 - acc: 0.9134 - val_loss: 0.2896 - val_acc: 0.8892\n",
            "Epoch 7/20\n",
            "25000/25000 [==============================] - 6s 236us/step - loss: 0.2430 - acc: 0.9220 - val_loss: 0.2940 - val_acc: 0.8891\n",
            "Epoch 8/20\n",
            "25000/25000 [==============================] - 6s 229us/step - loss: 0.2205 - acc: 0.9278 - val_loss: 0.3016 - val_acc: 0.8822\n",
            "Epoch 9/20\n",
            "25000/25000 [==============================] - 6s 221us/step - loss: 0.2037 - acc: 0.9353 - val_loss: 0.3196 - val_acc: 0.8863\n",
            "Epoch 10/20\n",
            "25000/25000 [==============================] - 5s 218us/step - loss: 0.1834 - acc: 0.9398 - val_loss: 0.3439 - val_acc: 0.8846\n",
            "Epoch 11/20\n",
            "25000/25000 [==============================] - 6s 220us/step - loss: 0.1746 - acc: 0.9436 - val_loss: 0.3562 - val_acc: 0.8828\n",
            "Epoch 12/20\n",
            "25000/25000 [==============================] - 5s 219us/step - loss: 0.1598 - acc: 0.9488 - val_loss: 0.3753 - val_acc: 0.8818\n",
            "Epoch 13/20\n",
            "25000/25000 [==============================] - 6s 223us/step - loss: 0.1506 - acc: 0.9524 - val_loss: 0.3937 - val_acc: 0.8799\n",
            "Epoch 14/20\n",
            "25000/25000 [==============================] - 5s 219us/step - loss: 0.1481 - acc: 0.9507 - val_loss: 0.4389 - val_acc: 0.8796\n",
            "Epoch 15/20\n",
            "25000/25000 [==============================] - 6s 222us/step - loss: 0.1357 - acc: 0.9562 - val_loss: 0.4310 - val_acc: 0.8782\n",
            "Epoch 16/20\n",
            "25000/25000 [==============================] - 5s 218us/step - loss: 0.1312 - acc: 0.9581 - val_loss: 0.4566 - val_acc: 0.8778\n",
            "Epoch 17/20\n",
            "25000/25000 [==============================] - 6s 221us/step - loss: 0.1303 - acc: 0.9573 - val_loss: 0.4591 - val_acc: 0.8757\n",
            "Epoch 18/20\n",
            "25000/25000 [==============================] - 5s 218us/step - loss: 0.1212 - acc: 0.9622 - val_loss: 0.5189 - val_acc: 0.8768\n",
            "Epoch 19/20\n",
            "25000/25000 [==============================] - 6s 221us/step - loss: 0.1176 - acc: 0.9630 - val_loss: 0.5777 - val_acc: 0.8754\n",
            "Epoch 20/20\n",
            "25000/25000 [==============================] - 5s 217us/step - loss: 0.1196 - acc: 0.9620 - val_loss: 0.5425 - val_acc: 0.8760\n"
          ],
          "name": "stdout"
        }
      ]
    },
    {
      "metadata": {
        "id": "Ft5fNQCiBA-P",
        "colab_type": "code",
        "colab": {
          "base_uri": "https://localhost:8080/",
          "height": 283
        },
        "outputId": "9498e520-7ca6-4b79-d051-36934c6ea17f"
      },
      "cell_type": "code",
      "source": [
        "import matplotlib.pyplot as plt\n",
        "\n",
        "epochs=range(1, 21)\n",
        "\n",
        "original_train_loss = original_history.history['loss']\n",
        "smaller_train_loss = smaller_history.history['loss']\n",
        "bigger_train_loss = bigger_history.history['loss']\n",
        "l2_train_loss = l2_history.history['loss']\n",
        "dpt_train_loss = dpt_history.history['loss']\n",
        "plt.plot(epochs, original_train_loss, 'b', label='Original')\n",
        "plt.plot(epochs, smaller_train_loss, 'r', label='Smaller')\n",
        "plt.plot(epochs, bigger_train_loss, 'g', label='Bigger')\n",
        "plt.plot(epochs, l2_train_loss, 'y', label='L2')\n",
        "plt.plot(epochs, dpt_train_loss, 'black', label='Dropout')\n",
        "plt.xlabel('Epochs')\n",
        "plt.ylabel('Validation loss')\n",
        "plt.legend()\n",
        "\n",
        "plt.show()"
      ],
      "execution_count": 64,
      "outputs": [
        {
          "output_type": "display_data",
          "data": {
            "image/png": "[encoded data removed]",
            "text/plain": [
              "<Figure size 432x288 with 1 Axes>"
            ]
          },
          "metadata": {
            "tags": []
          }
        }
      ]
    },
    {
      "metadata": {
        "id": "_oztmRRv8qSA",
        "colab_type": "code",
        "colab": {
          "base_uri": "https://localhost:8080/",
          "height": 283
        },
        "outputId": "3eb6f17f-a5e1-41a4-d59e-87a0d4780fb5"
      },
      "cell_type": "code",
      "source": [
        "original_loss = original_history.history['val_loss']\n",
        "smaller_loss = smaller_history.history['val_loss']\n",
        "bigger_loss = bigger_history.history['val_loss']\n",
        "l2_loss = l2_history.history['val_loss']\n",
        "dpt_loss = dpt_history.history['val_loss']\n",
        "plt.plot(epochs, original_loss, 'b', label='Original')\n",
        "plt.plot(epochs, smaller_loss, 'r', label='Smaller')\n",
        "plt.plot(epochs, bigger_loss, 'g', label='Bigger')\n",
        "plt.plot(epochs, l2_loss, 'y', label='L2')\n",
        "plt.plot(epochs, dpt_loss, 'black', label='Dropout')\n",
        "plt.xlabel('Epochs')\n",
        "plt.ylabel('Validation loss')\n",
        "plt.legend()\n",
        "\n",
        "plt.show()"
      ],
      "execution_count": 65,
      "outputs": [
        {
          "output_type": "display_data",
          "data": {
            "image/png": "[encoded data removed]",
            "text/plain": [
              "<Figure size 432x288 with 1 Axes>"
            ]
          },
          "metadata": {
            "tags": []
          }
        }
      ]
    },
    {
      "metadata": {
        "id": "HnioalC8HcVf",
        "colab_type": "code",
        "colab": {}
      },
      "cell_type": "code",
      "source": [
        ""
      ],
      "execution_count": 0,
      "outputs": []
    }
  ]
}