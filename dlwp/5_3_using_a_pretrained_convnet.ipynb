{
  "nbformat": 4,
  "nbformat_minor": 0,
  "metadata": {
    "colab": {
      "name": "5.3-using-a-pretrained-convnet.ipynb",
      "version": "0.3.2",
      "provenance": [],
      "collapsed_sections": [],
      "include_colab_link": true
    },
    "kernelspec": {
      "name": "python3",
      "display_name": "Python 3"
    },
    "accelerator": "GPU"
  },
  "cells": [
    {
      "cell_type": "markdown",
      "metadata": {
        "id": "view-in-github",
        "colab_type": "text"
      },
      "source": [
        "<a href=\"https://colab.research.google.com/github/Leelddd/alchemy-101/blob/master/dlwp/5_3_using_a_pretrained_convnet.ipynb\" target=\"_parent\"><img src=\"https://colab.research.google.com/assets/colab-badge.svg\" alt=\"Open In Colab\"/></a>"
      ]
    },
    {
      "metadata": {
        "id": "tghJ-htZPJd0",
        "colab_type": "text"
      },
      "cell_type": "markdown",
      "source": [
        "# Using a pretrained convnet"
      ]
    },
    {
      "metadata": {
        "id": "qkF04vABTt1t",
        "colab_type": "text"
      },
      "cell_type": "markdown",
      "source": [
        "## 5.3.1 Feature extraction"
      ]
    },
    {
      "metadata": {
        "id": "kW2P-FbqPXdX",
        "colab_type": "code",
        "colab": {
          "base_uri": "https://localhost:8080/",
          "height": 904
        },
        "outputId": "d65d85e1-20c3-4718-9f7a-47b91cf64245"
      },
      "cell_type": "code",
      "source": [
        "from keras.applications import VGG16\n",
        "\n",
        "# include_top: include densely connected classifier or not\n",
        "conv_base = VGG16(weights='imagenet', include_top=False, input_shape=(150, 150, 3))\n",
        "conv_base.summary()"
      ],
      "execution_count": 1,
      "outputs": [
        {
          "output_type": "stream",
          "text": [
            "Using TensorFlow backend.\n"
          ],
          "name": "stderr"
        },
        {
          "output_type": "stream",
          "text": [
            "WARNING:tensorflow:From /usr/local/lib/python3.6/dist-packages/tensorflow/python/framework/op_def_library.py:263: colocate_with (from tensorflow.python.framework.ops) is deprecated and will be removed in a future version.\n",
            "Instructions for updating:\n",
            "Colocations handled automatically by placer.\n",
            "Downloading data from https://github.com/fchollet/deep-learning-models/releases/download/v0.1/vgg16_weights_tf_dim_ordering_tf_kernels_notop.h5\n",
            "58892288/58889256 [==============================] - 158s 3us/step\n",
            "_________________________________________________________________\n",
            "Layer (type)                 Output Shape              Param #   \n",
            "=================================================================\n",
            "input_1 (InputLayer)         (None, 150, 150, 3)       0         \n",
            "_________________________________________________________________\n",
            "block1_conv1 (Conv2D)        (None, 150, 150, 64)      1792      \n",
            "_________________________________________________________________\n",
            "block1_conv2 (Conv2D)        (None, 150, 150, 64)      36928     \n",
            "_________________________________________________________________\n",
            "block1_pool (MaxPooling2D)   (None, 75, 75, 64)        0         \n",
            "_________________________________________________________________\n",
            "block2_conv1 (Conv2D)        (None, 75, 75, 128)       73856     \n",
            "_________________________________________________________________\n",
            "block2_conv2 (Conv2D)        (None, 75, 75, 128)       147584    \n",
            "_________________________________________________________________\n",
            "block2_pool (MaxPooling2D)   (None, 37, 37, 128)       0         \n",
            "_________________________________________________________________\n",
            "block3_conv1 (Conv2D)        (None, 37, 37, 256)       295168    \n",
            "_________________________________________________________________\n",
            "block3_conv2 (Conv2D)        (None, 37, 37, 256)       590080    \n",
            "_________________________________________________________________\n",
            "block3_conv3 (Conv2D)        (None, 37, 37, 256)       590080    \n",
            "_________________________________________________________________\n",
            "block3_pool (MaxPooling2D)   (None, 18, 18, 256)       0         \n",
            "_________________________________________________________________\n",
            "block4_conv1 (Conv2D)        (None, 18, 18, 512)       1180160   \n",
            "_________________________________________________________________\n",
            "block4_conv2 (Conv2D)        (None, 18, 18, 512)       2359808   \n",
            "_________________________________________________________________\n",
            "block4_conv3 (Conv2D)        (None, 18, 18, 512)       2359808   \n",
            "_________________________________________________________________\n",
            "block4_pool (MaxPooling2D)   (None, 9, 9, 512)         0         \n",
            "_________________________________________________________________\n",
            "block5_conv1 (Conv2D)        (None, 9, 9, 512)         2359808   \n",
            "_________________________________________________________________\n",
            "block5_conv2 (Conv2D)        (None, 9, 9, 512)         2359808   \n",
            "_________________________________________________________________\n",
            "block5_conv3 (Conv2D)        (None, 9, 9, 512)         2359808   \n",
            "_________________________________________________________________\n",
            "block5_pool (MaxPooling2D)   (None, 4, 4, 512)         0         \n",
            "=================================================================\n",
            "Total params: 14,714,688\n",
            "Trainable params: 14,714,688\n",
            "Non-trainable params: 0\n",
            "_________________________________________________________________\n"
          ],
          "name": "stdout"
        }
      ]
    },
    {
      "metadata": {
        "id": "S8By9XcISiGP",
        "colab_type": "text"
      },
      "cell_type": "markdown",
      "source": [
        "Fast feature extraction without data augmentation"
      ]
    },
    {
      "metadata": {
        "id": "EXLBZfncUEJV",
        "colab_type": "code",
        "colab": {
          "base_uri": "https://localhost:8080/",
          "height": 34
        },
        "outputId": "512eee07-ca96-4f3a-b6b6-866d58303b6e"
      },
      "cell_type": "code",
      "source": [
        "ls "
      ],
      "execution_count": 2,
      "outputs": [
        {
          "output_type": "stream",
          "text": [
            " \u001b[0m\u001b[01;34mdogcat\u001b[0m/  'kaggle (1).json'   \u001b[01;34msample_data\u001b[0m/\n"
          ],
          "name": "stdout"
        }
      ]
    },
    {
      "metadata": {
        "id": "w2nGa2BNT2KV",
        "colab_type": "code",
        "colab": {}
      },
      "cell_type": "code",
      "source": [
        "import os\n",
        "import numpy as np\n",
        "from keras.preprocessing.image import ImageDataGenerator\n",
        "\n",
        "base_dir = 'dogcat/base'\n",
        "train_dir = os.path.join(base_dir, 'train')\n",
        "validation_dir = os.path.join(base_dir, 'validation')\n",
        "test_dir = os.path.join(base_dir, 'test')\n",
        "\n",
        "datagen = ImageDataGenerator(rescale=1./255)\n",
        "batch_size = 20"
      ],
      "execution_count": 0,
      "outputs": []
    },
    {
      "metadata": {
        "id": "ruELfo3sUaXH",
        "colab_type": "code",
        "colab": {}
      },
      "cell_type": "code",
      "source": [
        "def extract_features(directory, sample_count):\n",
        "    features = np.zeros(shape=(sample_count, 4, 4, 512))\n",
        "    labels = np.zeros(shape=(sample_count))\n",
        "    generator = datagen.flow_from_directory(\n",
        "        directory,\n",
        "        target_size=(150, 150),\n",
        "        batch_size=batch_size,\n",
        "        class_mode='binary'\n",
        "    )\n",
        "    i = 0\n",
        "    for inputs_batch, labels_batch in generator:\n",
        "        features_batch = conv_base.predict(inputs_batch)\n",
        "        features[i * batch_size : (i+1) * batch_size] = features_batch\n",
        "        labels[i * batch_size : (i+1) * batch_size] = labels_batch\n",
        "        i += 1\n",
        "        if i * batch_size >= sample_count:\n",
        "            break\n",
        "    return features, labels"
      ],
      "execution_count": 0,
      "outputs": []
    },
    {
      "metadata": {
        "id": "SovyCCm0VHzi",
        "colab_type": "code",
        "colab": {
          "base_uri": "https://localhost:8080/",
          "height": 68
        },
        "outputId": "bc38fac8-93c7-4c25-abcb-872214553165"
      },
      "cell_type": "code",
      "source": [
        "train_features, train_labels = extract_features(train_dir, 2000)\n",
        "validation_features, validation_labels = extract_features(validation_dir, 1000)\n",
        "test_features, test_labels = extract_features(test_dir, 1000)"
      ],
      "execution_count": 6,
      "outputs": [
        {
          "output_type": "stream",
          "text": [
            "Found 2000 images belonging to 2 classes.\n",
            "Found 1000 images belonging to 2 classes.\n",
            "Found 1000 images belonging to 2 classes.\n"
          ],
          "name": "stdout"
        }
      ]
    },
    {
      "metadata": {
        "id": "exINUI4iVWNa",
        "colab_type": "code",
        "colab": {}
      },
      "cell_type": "code",
      "source": [
        "train_features = np.reshape(train_features, (2000, 4 * 4 * 512))\n",
        "validation_features = np.reshape(validation_features, (1000, 4 * 4 * 512))\n",
        "test_features = np.reshape(test_features, (1000, 4 * 4 * 512))"
      ],
      "execution_count": 0,
      "outputs": []
    },
    {
      "metadata": {
        "id": "9_PpcILuVswJ",
        "colab_type": "code",
        "colab": {
          "base_uri": "https://localhost:8080/",
          "height": 88
        },
        "outputId": "415c5f87-aac2-4582-9c80-83c81e9318ad"
      },
      "cell_type": "code",
      "source": [
        "from keras import models\n",
        "from keras import layers\n",
        "from keras import optimizers\n",
        "\n",
        "model = models.Sequential()\n",
        "model.add(layers.Dense(256, activation='relu', input_dim=4*4*512))\n",
        "model.add(layers.Dropout(0.5))\n",
        "model.add(layers.Dense(1, activation='sigmoid'))\n",
        "\n",
        "model.compile(optimizer=optimizers.RMSprop(lr=2e-5),\n",
        "             loss='binary_crossentropy',\n",
        "             metrics=['acc'])"
      ],
      "execution_count": 8,
      "outputs": [
        {
          "output_type": "stream",
          "text": [
            "WARNING:tensorflow:From /usr/local/lib/python3.6/dist-packages/keras/backend/tensorflow_backend.py:3445: calling dropout (from tensorflow.python.ops.nn_ops) with keep_prob is deprecated and will be removed in a future version.\n",
            "Instructions for updating:\n",
            "Please use `rate` instead of `keep_prob`. Rate should be set to `rate = 1 - keep_prob`.\n"
          ],
          "name": "stdout"
        }
      ]
    },
    {
      "metadata": {
        "id": "Lq2xDG0KWHXV",
        "colab_type": "code",
        "colab": {
          "base_uri": "https://localhost:8080/",
          "height": 1125
        },
        "outputId": "13be3cea-c1df-451c-e8c6-51d07c229ed7"
      },
      "cell_type": "code",
      "source": [
        "history = model.fit(train_features, train_labels, epochs=30, batch_size=20,\n",
        "                   validation_data=(validation_features, validation_labels))"
      ],
      "execution_count": 9,
      "outputs": [
        {
          "output_type": "stream",
          "text": [
            "WARNING:tensorflow:From /usr/local/lib/python3.6/dist-packages/tensorflow/python/ops/math_ops.py:3066: to_int32 (from tensorflow.python.ops.math_ops) is deprecated and will be removed in a future version.\n",
            "Instructions for updating:\n",
            "Use tf.cast instead.\n",
            "Train on 2000 samples, validate on 1000 samples\n",
            "Epoch 1/30\n",
            "2000/2000 [==============================] - 2s 835us/step - loss: 0.6530 - acc: 0.6435 - val_loss: 0.4420 - val_acc: 0.8280\n",
            "Epoch 2/30\n",
            "2000/2000 [==============================] - 1s 416us/step - loss: 0.4467 - acc: 0.7930 - val_loss: 0.3606 - val_acc: 0.8560\n",
            "Epoch 3/30\n",
            "2000/2000 [==============================] - 1s 416us/step - loss: 0.3600 - acc: 0.8415 - val_loss: 0.3233 - val_acc: 0.8670\n",
            "Epoch 4/30\n",
            "2000/2000 [==============================] - 1s 346us/step - loss: 0.3053 - acc: 0.8800 - val_loss: 0.2971 - val_acc: 0.8860\n",
            "Epoch 5/30\n",
            "2000/2000 [==============================] - 1s 411us/step - loss: 0.2817 - acc: 0.8910 - val_loss: 0.2844 - val_acc: 0.8940\n",
            "Epoch 6/30\n",
            "2000/2000 [==============================] - 1s 339us/step - loss: 0.2597 - acc: 0.8920 - val_loss: 0.2701 - val_acc: 0.9000\n",
            "Epoch 7/30\n",
            "2000/2000 [==============================] - 1s 398us/step - loss: 0.2506 - acc: 0.8985 - val_loss: 0.2637 - val_acc: 0.8980\n",
            "Epoch 8/30\n",
            "2000/2000 [==============================] - 1s 365us/step - loss: 0.2344 - acc: 0.9090 - val_loss: 0.2592 - val_acc: 0.8980\n",
            "Epoch 9/30\n",
            "2000/2000 [==============================] - 1s 349us/step - loss: 0.2098 - acc: 0.9215 - val_loss: 0.2603 - val_acc: 0.8950\n",
            "Epoch 10/30\n",
            "2000/2000 [==============================] - 1s 389us/step - loss: 0.2007 - acc: 0.9300 - val_loss: 0.2546 - val_acc: 0.8970\n",
            "Epoch 11/30\n",
            "2000/2000 [==============================] - 1s 384us/step - loss: 0.2010 - acc: 0.9280 - val_loss: 0.2455 - val_acc: 0.9060\n",
            "Epoch 12/30\n",
            "2000/2000 [==============================] - 1s 373us/step - loss: 0.1813 - acc: 0.9335 - val_loss: 0.2429 - val_acc: 0.9050\n",
            "Epoch 13/30\n",
            "2000/2000 [==============================] - 1s 349us/step - loss: 0.1774 - acc: 0.9390 - val_loss: 0.2518 - val_acc: 0.8960\n",
            "Epoch 14/30\n",
            "2000/2000 [==============================] - 1s 354us/step - loss: 0.1651 - acc: 0.9400 - val_loss: 0.2434 - val_acc: 0.9030\n",
            "Epoch 15/30\n",
            "2000/2000 [==============================] - 1s 306us/step - loss: 0.1681 - acc: 0.9420 - val_loss: 0.2383 - val_acc: 0.9040\n",
            "Epoch 16/30\n",
            "2000/2000 [==============================] - 1s 345us/step - loss: 0.1565 - acc: 0.9455 - val_loss: 0.2375 - val_acc: 0.9040\n",
            "Epoch 17/30\n",
            "2000/2000 [==============================] - 1s 362us/step - loss: 0.1466 - acc: 0.9525 - val_loss: 0.2370 - val_acc: 0.9010\n",
            "Epoch 18/30\n",
            "2000/2000 [==============================] - 1s 356us/step - loss: 0.1444 - acc: 0.9520 - val_loss: 0.2628 - val_acc: 0.8930\n",
            "Epoch 19/30\n",
            "2000/2000 [==============================] - 1s 306us/step - loss: 0.1405 - acc: 0.9555 - val_loss: 0.2354 - val_acc: 0.9010\n",
            "Epoch 20/30\n",
            "2000/2000 [==============================] - 1s 357us/step - loss: 0.1308 - acc: 0.9525 - val_loss: 0.2407 - val_acc: 0.9040\n",
            "Epoch 21/30\n",
            "2000/2000 [==============================] - 1s 350us/step - loss: 0.1209 - acc: 0.9580 - val_loss: 0.2477 - val_acc: 0.9020\n",
            "Epoch 22/30\n",
            "2000/2000 [==============================] - 1s 317us/step - loss: 0.1212 - acc: 0.9590 - val_loss: 0.2380 - val_acc: 0.9020\n",
            "Epoch 23/30\n",
            "2000/2000 [==============================] - 1s 363us/step - loss: 0.1187 - acc: 0.9570 - val_loss: 0.2484 - val_acc: 0.9040\n",
            "Epoch 24/30\n",
            "2000/2000 [==============================] - 1s 371us/step - loss: 0.1139 - acc: 0.9630 - val_loss: 0.2359 - val_acc: 0.9000\n",
            "Epoch 25/30\n",
            "2000/2000 [==============================] - 1s 348us/step - loss: 0.1065 - acc: 0.9670 - val_loss: 0.2377 - val_acc: 0.9030\n",
            "Epoch 26/30\n",
            "2000/2000 [==============================] - 1s 363us/step - loss: 0.1001 - acc: 0.9715 - val_loss: 0.2372 - val_acc: 0.9000\n",
            "Epoch 27/30\n",
            "2000/2000 [==============================] - 1s 362us/step - loss: 0.1007 - acc: 0.9665 - val_loss: 0.2380 - val_acc: 0.9030\n",
            "Epoch 28/30\n",
            "2000/2000 [==============================] - 1s 357us/step - loss: 0.0913 - acc: 0.9740 - val_loss: 0.2387 - val_acc: 0.9010\n",
            "Epoch 29/30\n",
            "2000/2000 [==============================] - 1s 339us/step - loss: 0.0873 - acc: 0.9750 - val_loss: 0.2433 - val_acc: 0.9030\n",
            "Epoch 30/30\n",
            "2000/2000 [==============================] - 1s 349us/step - loss: 0.0852 - acc: 0.9750 - val_loss: 0.2469 - val_acc: 0.9080\n"
          ],
          "name": "stdout"
        }
      ]
    },
    {
      "metadata": {
        "id": "b9k5BK1gaoQ3",
        "colab_type": "code",
        "colab": {}
      },
      "cell_type": "code",
      "source": [
        "import matplotlib.pyplot as plt\n",
        "\n",
        "def smooth_curve(points, factor=0.8):\n",
        "    smoothed_points = []\n",
        "    for point in points:\n",
        "        if smoothed_points:\n",
        "            previous = smoothed_points[-1]\n",
        "            smoothed_points.append(previous * factor + point * (1-factor))\n",
        "        else:\n",
        "            smoothed_points.append(point)\n",
        "    return smoothed_points\n",
        "\n",
        "def plot(history, smooth=False):\n",
        "    acc = history['acc']\n",
        "    val_acc = history['val_acc']\n",
        "    loss = history['loss']\n",
        "    val_loss = history['val_loss']\n",
        "\n",
        "    epochs = range(1, len(acc)+1)\n",
        "\n",
        "    if smooth:\n",
        "        plt.plot(epochs, smooth_curve(acc), 'b', label='Training acc')\n",
        "        plt.plot(epochs, smooth_curve(val_acc), 'r', label='Validation acc')\n",
        "    else:    \n",
        "        plt.plot(epochs, acc, 'b', label='Training acc')\n",
        "        plt.plot(epochs, val_acc, 'r', label='Validation acc')\n",
        "    plt.legend()\n",
        "    plt.figure()\n",
        "\n",
        "    if smooth:\n",
        "        plt.plot(epochs, smooth_curve(loss), 'g', label='Training loss')\n",
        "        plt.plot(epochs, smooth_curve(val_loss), 'y', label='Validation loss')\n",
        "    else:\n",
        "        plt.plot(epochs, loss, 'g', label='Training loss')\n",
        "        plt.plot(epochs, val_loss, 'y', label='Validation loss')\n",
        "    plt.legend()\n",
        "    plt.show()"
      ],
      "execution_count": 0,
      "outputs": []
    },
    {
      "metadata": {
        "id": "aJuecC0IWZ1M",
        "colab_type": "code",
        "colab": {
          "base_uri": "https://localhost:8080/",
          "height": 521
        },
        "outputId": "f5221a69-7a5b-4e39-8a99-92ada9e3c8c6"
      },
      "cell_type": "code",
      "source": [
        "plot(history.history)"
      ],
      "execution_count": 21,
      "outputs": [
        {
          "output_type": "display_data",
          "data": {
            "image/png": "[encoded data removed]",
            "text/plain": [
              "<Figure size 432x288 with 1 Axes>"
            ]
          },
          "metadata": {
            "tags": []
          }
        },
        {
          "output_type": "display_data",
          "data": {
            "image/png": "[encoded data removed]",
            "text/plain": [
              "<Figure size 432x288 with 1 Axes>"
            ]
          },
          "metadata": {
            "tags": []
          }
        }
      ]
    },
    {
      "metadata": {
        "id": "Un5D6RdsXAkQ",
        "colab_type": "text"
      },
      "cell_type": "markdown",
      "source": [
        "Feature extraction with data augmentation"
      ]
    },
    {
      "metadata": {
        "id": "X_rtGx4iXW2w",
        "colab_type": "code",
        "colab": {
          "base_uri": "https://localhost:8080/",
          "height": 272
        },
        "outputId": "cc5e27f1-f144-4320-c234-a1cbb326a30d"
      },
      "cell_type": "code",
      "source": [
        "conv_base = VGG16(weights='imagenet', include_top=False, input_shape=(150, 150, 3))\n",
        "\n",
        "model = models.Sequential()\n",
        "model.add(conv_base)\n",
        "model.add(layers.Flatten())\n",
        "model.add(layers.Dense(256, activation='relu'))\n",
        "model.add(layers.Dense(1, activation='sigmoid'))\n",
        "model.summary()"
      ],
      "execution_count": 37,
      "outputs": [
        {
          "output_type": "stream",
          "text": [
            "_________________________________________________________________\n",
            "Layer (type)                 Output Shape              Param #   \n",
            "=================================================================\n",
            "vgg16 (Model)                (None, 4, 4, 512)         14714688  \n",
            "_________________________________________________________________\n",
            "flatten_5 (Flatten)          (None, 8192)              0         \n",
            "_________________________________________________________________\n",
            "dense_11 (Dense)             (None, 256)               2097408   \n",
            "_________________________________________________________________\n",
            "dense_12 (Dense)             (None, 1)                 257       \n",
            "=================================================================\n",
            "Total params: 16,812,353\n",
            "Trainable params: 16,812,353\n",
            "Non-trainable params: 0\n",
            "_________________________________________________________________\n"
          ],
          "name": "stdout"
        }
      ]
    },
    {
      "metadata": {
        "id": "sw_RseZTYC1V",
        "colab_type": "code",
        "colab": {
          "base_uri": "https://localhost:8080/",
          "height": 34
        },
        "outputId": "d5c80305-b2df-44dd-d0c2-9e993c0eaf7f"
      },
      "cell_type": "code",
      "source": [
        "len(model.trainable_weights)"
      ],
      "execution_count": 38,
      "outputs": [
        {
          "output_type": "execute_result",
          "data": {
            "text/plain": [
              "30"
            ]
          },
          "metadata": {
            "tags": []
          },
          "execution_count": 38
        }
      ]
    },
    {
      "metadata": {
        "id": "GL7Z6UELYflM",
        "colab_type": "code",
        "colab": {}
      },
      "cell_type": "code",
      "source": [
        "# freeze the convolutional base\n",
        "conv_base.trainable = False"
      ],
      "execution_count": 0,
      "outputs": []
    },
    {
      "metadata": {
        "id": "urpMT1CsYkKA",
        "colab_type": "code",
        "colab": {
          "base_uri": "https://localhost:8080/",
          "height": 34
        },
        "outputId": "d117f6dc-f597-4c6d-95f6-b5e12226aa97"
      },
      "cell_type": "code",
      "source": [
        "len(model.trainable_weights)"
      ],
      "execution_count": 40,
      "outputs": [
        {
          "output_type": "execute_result",
          "data": {
            "text/plain": [
              "4"
            ]
          },
          "metadata": {
            "tags": []
          },
          "execution_count": 40
        }
      ]
    },
    {
      "metadata": {
        "id": "hr6k7IGfYnMb",
        "colab_type": "code",
        "colab": {
          "base_uri": "https://localhost:8080/",
          "height": 3451
        },
        "outputId": "1579ce12-c444-424f-d1db-28e6be0cd95f"
      },
      "cell_type": "code",
      "source": [
        "from keras.preprocessing.image import ImageDataGenerator\n",
        "\n",
        "train_datagen = ImageDataGenerator(\n",
        "      rescale=1./255,\n",
        "      rotation_range=40,\n",
        "      width_shift_range=0.2,\n",
        "      height_shift_range=0.2,\n",
        "      shear_range=0.2,\n",
        "      zoom_range=0.2,\n",
        "      horizontal_flip=True,\n",
        "      fill_mode='nearest')\n",
        "\n",
        "# Note that the validation data should not be augmented!\n",
        "test_datagen = ImageDataGenerator(rescale=1./255)\n",
        "\n",
        "train_generator = train_datagen.flow_from_directory(\n",
        "        # This is the target directory\n",
        "        train_dir,\n",
        "        # All images will be resized to 150x150\n",
        "        target_size=(150, 150),\n",
        "        batch_size=20,\n",
        "        # Since we use binary_crossentropy loss, we need binary labels\n",
        "        class_mode='binary')\n",
        "\n",
        "validation_generator = test_datagen.flow_from_directory(\n",
        "        validation_dir,\n",
        "        target_size=(150, 150),\n",
        "        batch_size=20,\n",
        "        class_mode='binary')\n",
        "\n",
        "model.compile(loss='binary_crossentropy',\n",
        "              optimizer=optimizers.RMSprop(lr=2e-5),\n",
        "              metrics=['acc'])\n",
        "\n",
        "history = model.fit_generator(\n",
        "      train_generator,\n",
        "      steps_per_epoch=100,\n",
        "      epochs=100,\n",
        "      validation_data=validation_generator,\n",
        "      validation_steps=50,\n",
        "      verbose=2)"
      ],
      "execution_count": 42,
      "outputs": [
        {
          "output_type": "stream",
          "text": [
            "Found 2000 images belonging to 2 classes.\n",
            "Found 1000 images belonging to 2 classes.\n",
            "Epoch 1/100\n",
            " - 20s - loss: 0.2890 - acc: 0.8810 - val_loss: 0.2561 - val_acc: 0.8920\n",
            "Epoch 2/100\n",
            " - 16s - loss: 0.2796 - acc: 0.8835 - val_loss: 0.2366 - val_acc: 0.9050\n",
            "Epoch 3/100\n",
            " - 16s - loss: 0.2774 - acc: 0.8890 - val_loss: 0.2364 - val_acc: 0.9020\n",
            "Epoch 4/100\n",
            " - 17s - loss: 0.2766 - acc: 0.8870 - val_loss: 0.2381 - val_acc: 0.9020\n",
            "Epoch 5/100\n",
            " - 16s - loss: 0.2830 - acc: 0.8720 - val_loss: 0.2374 - val_acc: 0.9000\n",
            "Epoch 6/100\n",
            " - 16s - loss: 0.2800 - acc: 0.8805 - val_loss: 0.2388 - val_acc: 0.9060\n",
            "Epoch 7/100\n",
            " - 16s - loss: 0.2780 - acc: 0.8860 - val_loss: 0.2379 - val_acc: 0.9060\n",
            "Epoch 8/100\n",
            " - 16s - loss: 0.2799 - acc: 0.8815 - val_loss: 0.2439 - val_acc: 0.9030\n",
            "Epoch 9/100\n",
            " - 17s - loss: 0.2860 - acc: 0.8780 - val_loss: 0.2352 - val_acc: 0.9090\n",
            "Epoch 10/100\n",
            " - 17s - loss: 0.2768 - acc: 0.8760 - val_loss: 0.2352 - val_acc: 0.9050\n",
            "Epoch 11/100\n",
            " - 16s - loss: 0.2743 - acc: 0.8795 - val_loss: 0.2358 - val_acc: 0.9010\n",
            "Epoch 12/100\n",
            " - 16s - loss: 0.2566 - acc: 0.8920 - val_loss: 0.2355 - val_acc: 0.9090\n",
            "Epoch 13/100\n",
            " - 17s - loss: 0.2714 - acc: 0.8900 - val_loss: 0.2340 - val_acc: 0.9050\n",
            "Epoch 14/100\n",
            " - 17s - loss: 0.2676 - acc: 0.8875 - val_loss: 0.2448 - val_acc: 0.9030\n",
            "Epoch 15/100\n",
            " - 16s - loss: 0.2748 - acc: 0.8900 - val_loss: 0.2496 - val_acc: 0.8960\n",
            "Epoch 16/100\n",
            " - 16s - loss: 0.2638 - acc: 0.8870 - val_loss: 0.2330 - val_acc: 0.9100\n",
            "Epoch 17/100\n",
            " - 16s - loss: 0.2643 - acc: 0.8880 - val_loss: 0.2331 - val_acc: 0.9120\n",
            "Epoch 18/100\n",
            " - 17s - loss: 0.2575 - acc: 0.8880 - val_loss: 0.2379 - val_acc: 0.9030\n",
            "Epoch 19/100\n",
            " - 17s - loss: 0.2558 - acc: 0.8945 - val_loss: 0.2355 - val_acc: 0.9070\n",
            "Epoch 20/100\n",
            " - 17s - loss: 0.2630 - acc: 0.8920 - val_loss: 0.2354 - val_acc: 0.9060\n",
            "Epoch 21/100\n",
            " - 16s - loss: 0.2647 - acc: 0.8900 - val_loss: 0.2382 - val_acc: 0.9030\n",
            "Epoch 22/100\n",
            " - 16s - loss: 0.2588 - acc: 0.8925 - val_loss: 0.2356 - val_acc: 0.9070\n",
            "Epoch 23/100\n",
            " - 17s - loss: 0.2674 - acc: 0.8835 - val_loss: 0.2376 - val_acc: 0.9100\n",
            "Epoch 24/100\n",
            " - 16s - loss: 0.2634 - acc: 0.8910 - val_loss: 0.2396 - val_acc: 0.9060\n",
            "Epoch 25/100\n",
            " - 16s - loss: 0.2588 - acc: 0.8910 - val_loss: 0.2425 - val_acc: 0.9030\n",
            "Epoch 26/100\n",
            " - 16s - loss: 0.2549 - acc: 0.8875 - val_loss: 0.2375 - val_acc: 0.9100\n",
            "Epoch 27/100\n",
            " - 16s - loss: 0.2596 - acc: 0.8870 - val_loss: 0.2367 - val_acc: 0.9100\n",
            "Epoch 28/100\n",
            " - 18s - loss: 0.2692 - acc: 0.8875 - val_loss: 0.2385 - val_acc: 0.9100\n",
            "Epoch 29/100\n",
            " - 17s - loss: 0.2484 - acc: 0.8990 - val_loss: 0.2406 - val_acc: 0.9050\n",
            "Epoch 30/100\n",
            " - 16s - loss: 0.2538 - acc: 0.8890 - val_loss: 0.2414 - val_acc: 0.9080\n",
            "Epoch 31/100\n",
            " - 16s - loss: 0.2522 - acc: 0.8855 - val_loss: 0.2395 - val_acc: 0.9050\n",
            "Epoch 32/100\n",
            " - 16s - loss: 0.2577 - acc: 0.8935 - val_loss: 0.2384 - val_acc: 0.9060\n",
            "Epoch 33/100\n",
            " - 18s - loss: 0.2453 - acc: 0.8970 - val_loss: 0.2427 - val_acc: 0.9040\n",
            "Epoch 34/100\n",
            " - 16s - loss: 0.2496 - acc: 0.8935 - val_loss: 0.2428 - val_acc: 0.9060\n",
            "Epoch 35/100\n",
            " - 16s - loss: 0.2560 - acc: 0.8920 - val_loss: 0.2409 - val_acc: 0.9110\n",
            "Epoch 36/100\n",
            " - 16s - loss: 0.2441 - acc: 0.8975 - val_loss: 0.2440 - val_acc: 0.9080\n",
            "Epoch 37/100\n",
            " - 16s - loss: 0.2429 - acc: 0.8995 - val_loss: 0.2468 - val_acc: 0.9060\n",
            "Epoch 38/100\n",
            " - 18s - loss: 0.2494 - acc: 0.8930 - val_loss: 0.2412 - val_acc: 0.9090\n",
            "Epoch 39/100\n",
            " - 17s - loss: 0.2341 - acc: 0.8985 - val_loss: 0.2433 - val_acc: 0.9010\n",
            "Epoch 40/100\n",
            " - 16s - loss: 0.2451 - acc: 0.8980 - val_loss: 0.2548 - val_acc: 0.9000\n",
            "Epoch 41/100\n",
            " - 16s - loss: 0.2583 - acc: 0.8970 - val_loss: 0.2423 - val_acc: 0.9060\n",
            "Epoch 42/100\n",
            " - 16s - loss: 0.2408 - acc: 0.8970 - val_loss: 0.2393 - val_acc: 0.9070\n",
            "Epoch 43/100\n",
            " - 18s - loss: 0.2452 - acc: 0.8950 - val_loss: 0.2485 - val_acc: 0.9050\n",
            "Epoch 44/100\n",
            " - 16s - loss: 0.2485 - acc: 0.8855 - val_loss: 0.2408 - val_acc: 0.9090\n",
            "Epoch 45/100\n",
            " - 16s - loss: 0.2426 - acc: 0.8985 - val_loss: 0.2425 - val_acc: 0.9070\n",
            "Epoch 46/100\n",
            " - 16s - loss: 0.2459 - acc: 0.8860 - val_loss: 0.2465 - val_acc: 0.9020\n",
            "Epoch 47/100\n",
            " - 17s - loss: 0.2441 - acc: 0.8950 - val_loss: 0.2501 - val_acc: 0.9010\n",
            "Epoch 48/100\n",
            " - 18s - loss: 0.2490 - acc: 0.8990 - val_loss: 0.2433 - val_acc: 0.9060\n",
            "Epoch 49/100\n",
            " - 16s - loss: 0.2468 - acc: 0.8875 - val_loss: 0.2419 - val_acc: 0.9040\n",
            "Epoch 50/100\n",
            " - 16s - loss: 0.2357 - acc: 0.9045 - val_loss: 0.2519 - val_acc: 0.9070\n",
            "Epoch 51/100\n",
            " - 16s - loss: 0.2469 - acc: 0.8910 - val_loss: 0.2467 - val_acc: 0.9050\n",
            "Epoch 52/100\n",
            " - 16s - loss: 0.2475 - acc: 0.8965 - val_loss: 0.2453 - val_acc: 0.9040\n",
            "Epoch 53/100\n",
            " - 17s - loss: 0.2584 - acc: 0.8930 - val_loss: 0.2458 - val_acc: 0.9020\n",
            "Epoch 54/100\n",
            " - 16s - loss: 0.2354 - acc: 0.8995 - val_loss: 0.2464 - val_acc: 0.9000\n",
            "Epoch 55/100\n",
            " - 16s - loss: 0.2495 - acc: 0.8905 - val_loss: 0.2478 - val_acc: 0.9000\n",
            "Epoch 56/100\n",
            " - 16s - loss: 0.2399 - acc: 0.8985 - val_loss: 0.2579 - val_acc: 0.8980\n",
            "Epoch 57/100\n",
            " - 17s - loss: 0.2341 - acc: 0.9035 - val_loss: 0.2633 - val_acc: 0.8970\n",
            "Epoch 58/100\n",
            " - 17s - loss: 0.2242 - acc: 0.9100 - val_loss: 0.2491 - val_acc: 0.9020\n",
            "Epoch 59/100\n",
            " - 17s - loss: 0.2385 - acc: 0.8965 - val_loss: 0.2466 - val_acc: 0.9040\n",
            "Epoch 60/100\n",
            " - 17s - loss: 0.2265 - acc: 0.9065 - val_loss: 0.2470 - val_acc: 0.9020\n",
            "Epoch 61/100\n",
            " - 17s - loss: 0.2423 - acc: 0.8990 - val_loss: 0.2511 - val_acc: 0.9000\n",
            "Epoch 62/100\n",
            " - 18s - loss: 0.2450 - acc: 0.9000 - val_loss: 0.2438 - val_acc: 0.9070\n",
            "Epoch 63/100\n",
            " - 17s - loss: 0.2320 - acc: 0.9025 - val_loss: 0.2448 - val_acc: 0.9070\n",
            "Epoch 64/100\n",
            " - 17s - loss: 0.2262 - acc: 0.8985 - val_loss: 0.2426 - val_acc: 0.9070\n",
            "Epoch 65/100\n",
            " - 17s - loss: 0.2314 - acc: 0.9025 - val_loss: 0.2474 - val_acc: 0.9060\n",
            "Epoch 66/100\n",
            " - 17s - loss: 0.2382 - acc: 0.8980 - val_loss: 0.2439 - val_acc: 0.9080\n",
            "Epoch 67/100\n",
            " - 18s - loss: 0.2406 - acc: 0.9025 - val_loss: 0.2451 - val_acc: 0.9080\n",
            "Epoch 68/100\n",
            " - 17s - loss: 0.2433 - acc: 0.8985 - val_loss: 0.2474 - val_acc: 0.9030\n",
            "Epoch 69/100\n",
            " - 16s - loss: 0.2367 - acc: 0.9005 - val_loss: 0.2477 - val_acc: 0.9040\n",
            "Epoch 70/100\n",
            " - 16s - loss: 0.2403 - acc: 0.8965 - val_loss: 0.2507 - val_acc: 0.9030\n",
            "Epoch 71/100\n",
            " - 17s - loss: 0.2317 - acc: 0.9055 - val_loss: 0.2424 - val_acc: 0.9090\n",
            "Epoch 72/100\n",
            " - 18s - loss: 0.2481 - acc: 0.8895 - val_loss: 0.2401 - val_acc: 0.9060\n",
            "Epoch 73/100\n",
            " - 17s - loss: 0.2337 - acc: 0.9050 - val_loss: 0.2421 - val_acc: 0.9050\n",
            "Epoch 74/100\n",
            " - 16s - loss: 0.2302 - acc: 0.9030 - val_loss: 0.2455 - val_acc: 0.9060\n",
            "Epoch 75/100\n",
            " - 16s - loss: 0.2345 - acc: 0.9035 - val_loss: 0.2498 - val_acc: 0.8970\n",
            "Epoch 76/100\n",
            " - 19s - loss: 0.2296 - acc: 0.9040 - val_loss: 0.2461 - val_acc: 0.9050\n",
            "Epoch 77/100\n",
            " - 17s - loss: 0.2266 - acc: 0.9070 - val_loss: 0.2467 - val_acc: 0.9080\n",
            "Epoch 78/100\n",
            " - 17s - loss: 0.2441 - acc: 0.8995 - val_loss: 0.2435 - val_acc: 0.9110\n",
            "Epoch 79/100\n",
            " - 17s - loss: 0.2337 - acc: 0.9030 - val_loss: 0.2464 - val_acc: 0.9040\n",
            "Epoch 80/100\n",
            " - 16s - loss: 0.2403 - acc: 0.8995 - val_loss: 0.2451 - val_acc: 0.9070\n",
            "Epoch 81/100\n",
            " - 18s - loss: 0.2323 - acc: 0.9005 - val_loss: 0.2643 - val_acc: 0.9030\n",
            "Epoch 82/100\n",
            " - 17s - loss: 0.2451 - acc: 0.8910 - val_loss: 0.2480 - val_acc: 0.9010\n",
            "Epoch 83/100\n",
            " - 17s - loss: 0.2257 - acc: 0.9020 - val_loss: 0.2461 - val_acc: 0.9000\n",
            "Epoch 84/100\n",
            " - 17s - loss: 0.2228 - acc: 0.9075 - val_loss: 0.2440 - val_acc: 0.9070\n",
            "Epoch 85/100\n",
            " - 17s - loss: 0.2216 - acc: 0.9090 - val_loss: 0.2446 - val_acc: 0.9050\n",
            "Epoch 86/100\n",
            " - 18s - loss: 0.2242 - acc: 0.9040 - val_loss: 0.2464 - val_acc: 0.9090\n",
            "Epoch 87/100\n",
            " - 17s - loss: 0.2378 - acc: 0.9020 - val_loss: 0.2572 - val_acc: 0.9020\n",
            "Epoch 88/100\n",
            " - 17s - loss: 0.2290 - acc: 0.8975 - val_loss: 0.2546 - val_acc: 0.9040\n",
            "Epoch 89/100\n",
            " - 16s - loss: 0.2218 - acc: 0.9085 - val_loss: 0.2541 - val_acc: 0.9080\n",
            "Epoch 90/100\n",
            " - 17s - loss: 0.2157 - acc: 0.9100 - val_loss: 0.2481 - val_acc: 0.9050\n",
            "Epoch 91/100\n",
            " - 18s - loss: 0.2100 - acc: 0.9075 - val_loss: 0.2657 - val_acc: 0.9010\n",
            "Epoch 92/100\n",
            " - 17s - loss: 0.2316 - acc: 0.8985 - val_loss: 0.2712 - val_acc: 0.8980\n",
            "Epoch 93/100\n",
            " - 17s - loss: 0.2357 - acc: 0.8975 - val_loss: 0.2507 - val_acc: 0.9040\n",
            "Epoch 94/100\n",
            " - 18s - loss: 0.2138 - acc: 0.9130 - val_loss: 0.2505 - val_acc: 0.9030\n",
            "Epoch 95/100\n",
            " - 17s - loss: 0.2252 - acc: 0.9020 - val_loss: 0.2535 - val_acc: 0.9000\n",
            "Epoch 96/100\n",
            " - 17s - loss: 0.2103 - acc: 0.9075 - val_loss: 0.2544 - val_acc: 0.9030\n",
            "Epoch 97/100\n",
            " - 17s - loss: 0.2282 - acc: 0.9035 - val_loss: 0.2557 - val_acc: 0.9010\n",
            "Epoch 98/100\n",
            " - 16s - loss: 0.2329 - acc: 0.9135 - val_loss: 0.2546 - val_acc: 0.9020\n",
            "Epoch 99/100\n",
            " - 16s - loss: 0.2175 - acc: 0.9025 - val_loss: 0.2500 - val_acc: 0.9030\n",
            "Epoch 100/100\n",
            " - 17s - loss: 0.2187 - acc: 0.9070 - val_loss: 0.2501 - val_acc: 0.9030\n"
          ],
          "name": "stdout"
        }
      ]
    },
    {
      "metadata": {
        "id": "fr0kTr-EaLjI",
        "colab_type": "code",
        "colab": {
          "base_uri": "https://localhost:8080/",
          "height": 521
        },
        "outputId": "2b05af88-f2db-4d38-dffd-450952e78342"
      },
      "cell_type": "code",
      "source": [
        "plot(history.history, True)"
      ],
      "execution_count": 53,
      "outputs": [
        {
          "output_type": "display_data",
          "data": {
            "image/png": "[encoded data removed]",
            "text/plain": [
              "<Figure size 432x288 with 1 Axes>"
            ]
          },
          "metadata": {
            "tags": []
          }
        },
        {
          "output_type": "display_data",
          "data": {
            "image/png": "[encoded data removed]",
            "text/plain": [
              "<Figure size 432x288 with 1 Axes>"
            ]
          },
          "metadata": {
            "tags": []
          }
        }
      ]
    },
    {
      "metadata": {
        "id": "_QC5tJ2WdpEH",
        "colab_type": "text"
      },
      "cell_type": "markdown",
      "source": [
        "## 5.3.2 Fine-tuning"
      ]
    },
    {
      "metadata": {
        "id": "O6WRayaR2g3s",
        "colab_type": "code",
        "colab": {
          "base_uri": "https://localhost:8080/",
          "height": 782
        },
        "outputId": "de80e222-9323-4d4b-b9a3-54daa486f1e9"
      },
      "cell_type": "code",
      "source": [
        "conv_base.summary()"
      ],
      "execution_count": 45,
      "outputs": [
        {
          "output_type": "stream",
          "text": [
            "_________________________________________________________________\n",
            "Layer (type)                 Output Shape              Param #   \n",
            "=================================================================\n",
            "input_3 (InputLayer)         (None, 150, 150, 3)       0         \n",
            "_________________________________________________________________\n",
            "block1_conv1 (Conv2D)        (None, 150, 150, 64)      1792      \n",
            "_________________________________________________________________\n",
            "block1_conv2 (Conv2D)        (None, 150, 150, 64)      36928     \n",
            "_________________________________________________________________\n",
            "block1_pool (MaxPooling2D)   (None, 75, 75, 64)        0         \n",
            "_________________________________________________________________\n",
            "block2_conv1 (Conv2D)        (None, 75, 75, 128)       73856     \n",
            "_________________________________________________________________\n",
            "block2_conv2 (Conv2D)        (None, 75, 75, 128)       147584    \n",
            "_________________________________________________________________\n",
            "block2_pool (MaxPooling2D)   (None, 37, 37, 128)       0         \n",
            "_________________________________________________________________\n",
            "block3_conv1 (Conv2D)        (None, 37, 37, 256)       295168    \n",
            "_________________________________________________________________\n",
            "block3_conv2 (Conv2D)        (None, 37, 37, 256)       590080    \n",
            "_________________________________________________________________\n",
            "block3_conv3 (Conv2D)        (None, 37, 37, 256)       590080    \n",
            "_________________________________________________________________\n",
            "block3_pool (MaxPooling2D)   (None, 18, 18, 256)       0         \n",
            "_________________________________________________________________\n",
            "block4_conv1 (Conv2D)        (None, 18, 18, 512)       1180160   \n",
            "_________________________________________________________________\n",
            "block4_conv2 (Conv2D)        (None, 18, 18, 512)       2359808   \n",
            "_________________________________________________________________\n",
            "block4_conv3 (Conv2D)        (None, 18, 18, 512)       2359808   \n",
            "_________________________________________________________________\n",
            "block4_pool (MaxPooling2D)   (None, 9, 9, 512)         0         \n",
            "_________________________________________________________________\n",
            "block5_conv1 (Conv2D)        (None, 9, 9, 512)         2359808   \n",
            "_________________________________________________________________\n",
            "block5_conv2 (Conv2D)        (None, 9, 9, 512)         2359808   \n",
            "_________________________________________________________________\n",
            "block5_conv3 (Conv2D)        (None, 9, 9, 512)         2359808   \n",
            "_________________________________________________________________\n",
            "block5_pool (MaxPooling2D)   (None, 4, 4, 512)         0         \n",
            "=================================================================\n",
            "Total params: 14,714,688\n",
            "Trainable params: 0\n",
            "Non-trainable params: 14,714,688\n",
            "_________________________________________________________________\n"
          ],
          "name": "stdout"
        }
      ]
    },
    {
      "metadata": {
        "id": "zP3LBwNF27RV",
        "colab_type": "code",
        "colab": {}
      },
      "cell_type": "code",
      "source": [
        "conv_base.trainable = True\n",
        "set_trainable = False\n",
        "for layer in conv_base.layers:\n",
        "    if layer.name == 'block5_conv1':\n",
        "        set_trainable = True\n",
        "    if set_trainable:\n",
        "        layer.trainable = True\n",
        "    else:\n",
        "        layer.trainable = False"
      ],
      "execution_count": 0,
      "outputs": []
    },
    {
      "metadata": {
        "id": "lfZwb-3h3UTH",
        "colab_type": "code",
        "colab": {
          "base_uri": "https://localhost:8080/",
          "height": 1057
        },
        "outputId": "53531fcd-561a-4ccc-9401-3fa318ed3aab"
      },
      "cell_type": "code",
      "source": [
        "model.compile(loss='binary_crossentropy',\n",
        "              optimizer=optimizers.RMSprop(lr=1e-5),\n",
        "              metrics=['acc'])\n",
        "\n",
        "fine_history = model.fit_generator(\n",
        "      train_generator,\n",
        "      steps_per_epoch=100,\n",
        "      epochs=30,\n",
        "      validation_data=validation_generator,\n",
        "      validation_steps=50,\n",
        ")"
      ],
      "execution_count": 50,
      "outputs": [
        {
          "output_type": "stream",
          "text": [
            "Epoch 1/30\n",
            "100/100 [==============================] - 20s 198ms/step - loss: 0.1818 - acc: 0.9235 - val_loss: 0.2262 - val_acc: 0.9250\n",
            "Epoch 2/30\n",
            "100/100 [==============================] - 18s 176ms/step - loss: 0.1758 - acc: 0.9225 - val_loss: 0.2419 - val_acc: 0.9060\n",
            "Epoch 3/30\n",
            "100/100 [==============================] - 19s 192ms/step - loss: 0.1607 - acc: 0.9375 - val_loss: 0.2689 - val_acc: 0.9140\n",
            "Epoch 4/30\n",
            "100/100 [==============================] - 19s 190ms/step - loss: 0.1543 - acc: 0.9440 - val_loss: 0.2194 - val_acc: 0.9230\n",
            "Epoch 5/30\n",
            "100/100 [==============================] - 18s 176ms/step - loss: 0.1575 - acc: 0.9365 - val_loss: 0.2580 - val_acc: 0.9150\n",
            "Epoch 6/30\n",
            "100/100 [==============================] - 18s 179ms/step - loss: 0.1351 - acc: 0.9475 - val_loss: 0.2239 - val_acc: 0.9320\n",
            "Epoch 7/30\n",
            "100/100 [==============================] - 18s 180ms/step - loss: 0.1200 - acc: 0.9560 - val_loss: 0.2307 - val_acc: 0.9230\n",
            "Epoch 8/30\n",
            "100/100 [==============================] - 18s 179ms/step - loss: 0.1238 - acc: 0.9510 - val_loss: 0.2275 - val_acc: 0.9220\n",
            "Epoch 9/30\n",
            "100/100 [==============================] - 19s 186ms/step - loss: 0.1117 - acc: 0.9615 - val_loss: 0.2239 - val_acc: 0.9270\n",
            "Epoch 10/30\n",
            "100/100 [==============================] - 18s 177ms/step - loss: 0.1150 - acc: 0.9520 - val_loss: 0.2641 - val_acc: 0.9220\n",
            "Epoch 11/30\n",
            "100/100 [==============================] - 18s 177ms/step - loss: 0.1108 - acc: 0.9575 - val_loss: 0.5800 - val_acc: 0.8690\n",
            "Epoch 12/30\n",
            "100/100 [==============================] - 18s 177ms/step - loss: 0.0816 - acc: 0.9675 - val_loss: 0.2219 - val_acc: 0.9340\n",
            "Epoch 13/30\n",
            "100/100 [==============================] - 19s 190ms/step - loss: 0.1153 - acc: 0.9560 - val_loss: 0.2224 - val_acc: 0.9280\n",
            "Epoch 14/30\n",
            "100/100 [==============================] - 18s 177ms/step - loss: 0.0892 - acc: 0.9650 - val_loss: 0.2371 - val_acc: 0.9230\n",
            "Epoch 15/30\n",
            "100/100 [==============================] - 18s 176ms/step - loss: 0.1006 - acc: 0.9645 - val_loss: 0.2502 - val_acc: 0.9320\n",
            "Epoch 16/30\n",
            "100/100 [==============================] - 18s 177ms/step - loss: 0.0750 - acc: 0.9680 - val_loss: 0.2695 - val_acc: 0.9230\n",
            "Epoch 17/30\n",
            "100/100 [==============================] - 18s 180ms/step - loss: 0.0945 - acc: 0.9645 - val_loss: 0.2893 - val_acc: 0.9150\n",
            "Epoch 18/30\n",
            "100/100 [==============================] - 19s 186ms/step - loss: 0.0729 - acc: 0.9735 - val_loss: 0.2221 - val_acc: 0.9340\n",
            "Epoch 19/30\n",
            "100/100 [==============================] - 18s 176ms/step - loss: 0.0817 - acc: 0.9700 - val_loss: 0.2194 - val_acc: 0.9400\n",
            "Epoch 20/30\n",
            "100/100 [==============================] - 19s 186ms/step - loss: 0.0823 - acc: 0.9675 - val_loss: 0.2296 - val_acc: 0.9290\n",
            "Epoch 21/30\n",
            "100/100 [==============================] - 18s 182ms/step - loss: 0.0785 - acc: 0.9695 - val_loss: 0.2852 - val_acc: 0.9240\n",
            "Epoch 22/30\n",
            "100/100 [==============================] - 19s 189ms/step - loss: 0.0859 - acc: 0.9635 - val_loss: 0.2252 - val_acc: 0.9340\n",
            "Epoch 23/30\n",
            "100/100 [==============================] - 18s 183ms/step - loss: 0.0730 - acc: 0.9735 - val_loss: 0.2126 - val_acc: 0.9350\n",
            "Epoch 24/30\n",
            "100/100 [==============================] - 18s 177ms/step - loss: 0.0813 - acc: 0.9670 - val_loss: 0.2391 - val_acc: 0.9410\n",
            "Epoch 25/30\n",
            "100/100 [==============================] - 18s 177ms/step - loss: 0.0649 - acc: 0.9730 - val_loss: 0.3870 - val_acc: 0.8990\n",
            "Epoch 26/30\n",
            "100/100 [==============================] - 18s 183ms/step - loss: 0.0743 - acc: 0.9735 - val_loss: 0.2247 - val_acc: 0.9240\n",
            "Epoch 27/30\n",
            "100/100 [==============================] - 18s 182ms/step - loss: 0.0573 - acc: 0.9770 - val_loss: 0.2709 - val_acc: 0.9260\n",
            "Epoch 28/30\n",
            "100/100 [==============================] - 18s 177ms/step - loss: 0.0606 - acc: 0.9795 - val_loss: 0.2167 - val_acc: 0.9340\n",
            "Epoch 29/30\n",
            "100/100 [==============================] - 18s 177ms/step - loss: 0.0591 - acc: 0.9740 - val_loss: 0.2290 - val_acc: 0.9320\n",
            "Epoch 30/30\n",
            "100/100 [==============================] - 18s 176ms/step - loss: 0.0562 - acc: 0.9805 - val_loss: 0.2504 - val_acc: 0.9320\n"
          ],
          "name": "stdout"
        }
      ]
    },
    {
      "metadata": {
        "id": "ais8zCjb3jIN",
        "colab_type": "code",
        "colab": {
          "base_uri": "https://localhost:8080/",
          "height": 521
        },
        "outputId": "b2a28539-1c3f-4f4b-b77c-bb7a9c9c3a5b"
      },
      "cell_type": "code",
      "source": [
        "plot(fine_history.history)"
      ],
      "execution_count": 51,
      "outputs": [
        {
          "output_type": "display_data",
          "data": {
            "image/png": "[encoded data removed]",
            "text/plain": [
              "<Figure size 432x288 with 1 Axes>"
            ]
          },
          "metadata": {
            "tags": []
          }
        },
        {
          "output_type": "display_data",
          "data": {
            "image/png": "[encoded data removed]",
            "text/plain": [
              "<Figure size 432x288 with 1 Axes>"
            ]
          },
          "metadata": {
            "tags": []
          }
        }
      ]
    },
    {
      "metadata": {
        "id": "kKLPwdMS6B6I",
        "colab_type": "code",
        "colab": {
          "base_uri": "https://localhost:8080/",
          "height": 521
        },
        "outputId": "6b909871-7c3f-446d-a6fb-4b08d06e176c"
      },
      "cell_type": "code",
      "source": [
        "plot(fine_history.history, True)"
      ],
      "execution_count": 55,
      "outputs": [
        {
          "output_type": "display_data",
          "data": {
            "image/png": "[encoded data removed]",
            "text/plain": [
              "<Figure size 432x288 with 1 Axes>"
            ]
          },
          "metadata": {
            "tags": []
          }
        },
        {
          "output_type": "display_data",
          "data": {
            "image/png": "[encoded data removed]",
            "text/plain": [
              "<Figure size 432x288 with 1 Axes>"
            ]
          },
          "metadata": {
            "tags": []
          }
        }
      ]
    },
    {
      "metadata": {
        "id": "CCUvkjIZ6Qm0",
        "colab_type": "code",
        "colab": {}
      },
      "cell_type": "code",
      "source": [
        ""
      ],
      "execution_count": 0,
      "outputs": []
    }
  ]
}