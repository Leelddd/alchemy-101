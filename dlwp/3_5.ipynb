{
  "nbformat": 4,
  "nbformat_minor": 0,
  "metadata": {
    "colab": {
      "name": "3.5.ipynb",
      "version": "0.3.2",
      "provenance": [],
      "include_colab_link": true
    },
    "kernelspec": {
      "name": "python3",
      "display_name": "Python 3"
    }
  },
  "cells": [
    {
      "cell_type": "markdown",
      "metadata": {
        "id": "view-in-github",
        "colab_type": "text"
      },
      "source": [
        "<a href=\"https://colab.research.google.com/github/Leelddd/deep-tragedy/blob/master/dlwp/3_5.ipynb\" target=\"_parent\"><img src=\"https://colab.research.google.com/assets/colab-badge.svg\" alt=\"Open In Colab\"/></a>"
      ]
    },
    {
      "metadata": {
        "id": "jXws6DQaVMOa",
        "colab_type": "text"
      },
      "cell_type": "markdown",
      "source": [
        "# 3.5 Classifying newswires: a multiclass classification example"
      ]
    },
    {
      "metadata": {
        "id": "RkWCEpq4Van_",
        "colab_type": "text"
      },
      "cell_type": "markdown",
      "source": [
        "## 3.5.1 The Reuters dataset"
      ]
    },
    {
      "metadata": {
        "id": "znGI1Q7nV_-O",
        "colab_type": "code",
        "colab": {
          "base_uri": "https://localhost:8080/",
          "height": 51
        },
        "outputId": "9b52ecdb-5afa-424c-b857-a477516d86c7"
      },
      "cell_type": "code",
      "source": [
        "from keras.datasets import reuters\n",
        "\n",
        "(train_data, train_labels), (test_data,test_labels) = reuters.load_data(num_words=10000)"
      ],
      "execution_count": 1,
      "outputs": [
        {
          "output_type": "stream",
          "text": [
            "Downloading data from https://s3.amazonaws.com/text-datasets/reuters.npz\n",
            "2113536/2110848 [==============================] - 0s 0us/step\n"
          ],
          "name": "stdout"
        }
      ]
    },
    {
      "metadata": {
        "id": "s5LGiYQsWR8b",
        "colab_type": "code",
        "colab": {
          "base_uri": "https://localhost:8080/",
          "height": 34
        },
        "outputId": "4796f4a8-b25d-42d2-83ec-9806a3eaa5eb"
      },
      "cell_type": "code",
      "source": [
        "len(train_data), len(test_data)"
      ],
      "execution_count": 3,
      "outputs": [
        {
          "output_type": "execute_result",
          "data": {
            "text/plain": [
              "(8982, 2246)"
            ]
          },
          "metadata": {
            "tags": []
          },
          "execution_count": 3
        }
      ]
    },
    {
      "metadata": {
        "id": "DxTMwyO3WZOP",
        "colab_type": "code",
        "colab": {
          "base_uri": "https://localhost:8080/",
          "height": 34
        },
        "outputId": "a4e1b16a-6288-404e-ae1b-694aabfc354c"
      },
      "cell_type": "code",
      "source": [
        "train_data[10][:10]"
      ],
      "execution_count": 5,
      "outputs": [
        {
          "output_type": "execute_result",
          "data": {
            "text/plain": [
              "[1, 245, 273, 207, 156, 53, 74, 160, 26, 14]"
            ]
          },
          "metadata": {
            "tags": []
          },
          "execution_count": 5
        }
      ]
    },
    {
      "metadata": {
        "id": "0e3czKgHWjAd",
        "colab_type": "code",
        "colab": {
          "base_uri": "https://localhost:8080/",
          "height": 71
        },
        "outputId": "e58c0e34-e406-49fd-cd56-69c2a34f5c1f"
      },
      "cell_type": "code",
      "source": [
        "word_index=reuters.get_word_index()"
      ],
      "execution_count": 6,
      "outputs": [
        {
          "output_type": "stream",
          "text": [
            "Downloading data from https://s3.amazonaws.com/text-datasets/reuters_word_index.json\n",
            "557056/550378 [==============================] - 0s 0us/step\n"
          ],
          "name": "stdout"
        }
      ]
    },
    {
      "metadata": {
        "id": "sxNEoZfIYOE_",
        "colab_type": "code",
        "colab": {
          "base_uri": "https://localhost:8080/",
          "height": 102
        },
        "outputId": "d883ae73-d9f0-4d55-a320-6de467e6a45b"
      },
      "cell_type": "code",
      "source": [
        "from itertools import islice\n",
        "\n",
        "def show_dic(dic, n):\n",
        "    return list(islice(dic.items(),n))\n",
        "\n",
        "show_dic(word_index, 5)"
      ],
      "execution_count": 24,
      "outputs": [
        {
          "output_type": "execute_result",
          "data": {
            "text/plain": [
              "[('mdbl', 10996),\n",
              " ('fawc', 16260),\n",
              " ('degussa', 12089),\n",
              " ('woods', 8803),\n",
              " ('hanging', 13796)]"
            ]
          },
          "metadata": {
            "tags": []
          },
          "execution_count": 24
        }
      ]
    },
    {
      "metadata": {
        "id": "JHvkdHrDXBro",
        "colab_type": "code",
        "colab": {
          "base_uri": "https://localhost:8080/",
          "height": 187
        },
        "outputId": "a31e4d9a-626e-45d6-e3a3-84c7b1eb1534"
      },
      "cell_type": "code",
      "source": [
        "[key+':'+str(value) for (_, (key, value)) in zip(range(10), word_index.items())]"
      ],
      "execution_count": 10,
      "outputs": [
        {
          "output_type": "execute_result",
          "data": {
            "text/plain": [
              "['mdbl:10996',\n",
              " 'fawc:16260',\n",
              " 'degussa:12089',\n",
              " 'woods:8803',\n",
              " 'hanging:13796',\n",
              " 'localized:20672',\n",
              " 'sation:20673',\n",
              " 'chanthaburi:20675',\n",
              " 'refunding:10997',\n",
              " 'hermann:8804']"
            ]
          },
          "metadata": {
            "tags": []
          },
          "execution_count": 10
        }
      ]
    },
    {
      "metadata": {
        "id": "y7LNCyY1W5JT",
        "colab_type": "code",
        "colab": {}
      },
      "cell_type": "code",
      "source": [
        "reverse_word_index = {value:key for key,value in word_index.items()}"
      ],
      "execution_count": 0,
      "outputs": []
    },
    {
      "metadata": {
        "id": "48G8rpsrXAGh",
        "colab_type": "code",
        "colab": {
          "base_uri": "https://localhost:8080/",
          "height": 102
        },
        "outputId": "4922fca6-2afd-4ac1-f289-8b4a6a45b785"
      },
      "cell_type": "code",
      "source": [
        "show_dic(reverse_word_index, 5)"
      ],
      "execution_count": 25,
      "outputs": [
        {
          "output_type": "execute_result",
          "data": {
            "text/plain": [
              "[(10996, 'mdbl'),\n",
              " (16260, 'fawc'),\n",
              " (12089, 'degussa'),\n",
              " (8803, 'woods'),\n",
              " (13796, 'hanging')]"
            ]
          },
          "metadata": {
            "tags": []
          },
          "execution_count": 25
        }
      ]
    },
    {
      "metadata": {
        "id": "l_xasf3DZ6Qx",
        "colab_type": "code",
        "colab": {}
      },
      "cell_type": "code",
      "source": [
        "import numpy as np\n",
        "\n",
        "def vectorize_seq(seqs, dim=10000):\n",
        "    result = np.zeros((len(seqs), dim))\n",
        "    for i, seq in enumerate(seqs):\n",
        "        result[i, seq] = 1\n",
        "    return result\n",
        "\n",
        "x_train = vectorize_seq(train_data)\n",
        "x_test = vectorize_seq(test_data)"
      ],
      "execution_count": 0,
      "outputs": []
    },
    {
      "metadata": {
        "id": "EYx8cNh0as8y",
        "colab_type": "code",
        "colab": {}
      },
      "cell_type": "code",
      "source": [
        "def onehot(labels, dim=46):\n",
        "    result = np.zeros((len(labels), 46))\n",
        "    for i, label in enumerate(labels):\n",
        "        result[i, label] = 1\n",
        "    return result\n",
        "y_train = onehot(train_labels)\n",
        "y_test = onehot(test_labels)"
      ],
      "execution_count": 0,
      "outputs": []
    },
    {
      "metadata": {
        "id": "BgJW88-LbKHf",
        "colab_type": "code",
        "colab": {}
      },
      "cell_type": "code",
      "source": [
        ""
      ],
      "execution_count": 0,
      "outputs": []
    }
  ]
}